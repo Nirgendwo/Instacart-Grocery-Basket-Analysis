{
 "cells": [
  {
   "cell_type": "markdown",
   "id": "0d6e654c",
   "metadata": {},
   "source": [
    "### Content: \n",
    "- analysing different variables\n",
    "    - age\n",
    "    - income \n",
    "    - department\n",
    "    - number of dependants\n",
    "    - order_day_of_week\n",
    "    - order_hour_of_week\n",
    "- creating different customer profiles based on variables"
   ]
  },
  {
   "cell_type": "markdown",
   "id": "ee2da8f9",
   "metadata": {},
   "source": [
    "#Importing libaries"
   ]
  },
  {
   "cell_type": "code",
   "execution_count": null,
   "id": "27784fea",
   "metadata": {},
   "outputs": [],
   "source": [
    "import pandas as pd\n",
    "import numpy as np\n",
    "import os"
   ]
  },
  {
   "cell_type": "code",
   "execution_count": 5,
   "id": "ccf321a6",
   "metadata": {},
   "outputs": [
    {
     "name": "stdout",
     "output_type": "stream",
     "text": [
      "Variation 1: 100\n",
      "Variation 2: 100\n",
      "Variation 3: 100\n"
     ]
    }
   ],
   "source": [
    "# step 7 => calculations with result of 100\n",
    "\n",
    "x = 25;\n",
    "y = 75;\n",
    "z = 125;\n",
    "\n",
    "print('variation 1:', x + y);\n",
    "print('variation 2:', z - x);\n",
    "print('variation 3:', y + z - 100);"
   ]
  },
  {
   "cell_type": "code",
   "execution_count": 7,
   "id": "1b094453",
   "metadata": {},
   "outputs": [
    {
     "name": "stdout",
     "output_type": "stream",
     "text": [
      "reslut:  25.0\n"
     ]
    }
   ],
   "source": [
    "# step 8 => calculate two floating-point variables\n",
    "\n",
    "a = 12.5;\n",
    "b = 0.5;\n",
    "\n",
    "print('reslut: ', a / b);"
   ]
  },
  {
   "cell_type": "code",
   "execution_count": 8,
   "id": "a361c047",
   "metadata": {},
   "outputs": [
    {
     "name": "stdout",
     "output_type": "stream",
     "text": [
      "ABBA\n"
     ]
    }
   ],
   "source": [
    "# step 9 => concating two strings\n",
    "\n",
    "string1 = 'AB';\n",
    "string2 = 'BA';\n",
    "\n",
    "print(string1 + string2);"
   ]
  },
  {
   "cell_type": "code",
   "execution_count": 9,
   "id": "c701399c",
   "metadata": {},
   "outputs": [
    {
     "name": "stdout",
     "output_type": "stream",
     "text": [
      "This is a sentence. This is another sentence.\n"
     ]
    }
   ],
   "source": [
    "# step 10 => concating two sentences\n",
    "\n",
    "sentence1 = 'This is a sentence.';\n",
    "sentence2 = 'This is another sentence.';\n",
    "\n",
    "print(sentence1 + ' ' + sentence2)"
   ]
  },
  {
   "cell_type": "code",
   "execution_count": null,
   "id": "0ba0f6b5",
   "metadata": {},
   "outputs": [],
   "source": []
  }
 ],
 "metadata": {
  "kernelspec": {
   "display_name": "Python 3 (ipykernel)",
   "language": "python",
   "name": "python3"
  },
  "language_info": {
   "codemirror_mode": {
    "name": "ipython",
    "version": 3
   },
   "file_extension": ".py",
   "mimetype": "text/x-python",
   "name": "python",
   "nbconvert_exporter": "python",
   "pygments_lexer": "ipython3",
   "version": "3.8.13"
  }
 },
 "nbformat": 4,
 "nbformat_minor": 5
}
