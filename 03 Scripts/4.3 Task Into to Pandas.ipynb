{
 "cells": [
  {
   "cell_type": "markdown",
   "id": "a8e8f536",
   "metadata": {},
   "source": [
    "### Content \n",
    "- Importing lybaries\n",
    "- importing orders data\n",
    "- print first 5 rows\n",
    "- import product data\n",
    "- print first 20/last 35 rows\n",
    "- get coloumn names\n",
    "- get numbers of rows/coloumns\n",
    "- getting maximum value\n",
    "- getting the type of variable"
   ]
  },
  {
   "cell_type": "code",
   "execution_count": 1,
   "id": "6bd9559c",
   "metadata": {},
   "outputs": [],
   "source": [
    "# step 3 ==> Importing lybaries\n",
    "import pandas as pd;\n",
    "import numpy as np;\n",
    "import os;"
   ]
  },
  {
   "cell_type": "code",
   "execution_count": 2,
   "id": "e9eb62de",
   "metadata": {},
   "outputs": [],
   "source": [
    "# step 4 and 5 ==> importing orders data\n",
    "\n",
    "#renaming columns\n",
    "vars_list = ['order_id', 'user_id', 'order_number', 'order_dow', 'order_hour_of_day', 'days_since_prior_order'];\n",
    "\n",
    "#data source\n",
    "path = r'/Users/lennartzeidler/Desktop/Uni/Instacart Basket Analysis 08.10.2022 (4)';\n",
    "df_ords = pd.read_csv(os.path.join(path, '02 Data', 'Original Data', 'orders.csv'), usecols = vars_list);"
   ]
  },
  {
   "cell_type": "code",
   "execution_count": null,
   "id": "ca4f4c15",
   "metadata": {},
   "outputs": [],
   "source": [
    "# step 6 ==> print first 5 rows\n",
    "\n",
    "df_ords.head();"
   ]
  },
  {
   "cell_type": "code",
   "execution_count": 3,
   "id": "28d7201a",
   "metadata": {},
   "outputs": [],
   "source": [
    "# step 7 ==> import product data\n",
    "\n",
    "df_prods = pd.read_csv(os.path.join(path, '02 Data', 'Original Data', 'products.csv'));"
   ]
  },
  {
   "cell_type": "code",
   "execution_count": null,
   "id": "d5c09d40",
   "metadata": {},
   "outputs": [],
   "source": [
    "# step 8 ==> print first 20 rows\n",
    "\n",
    "print(df_prods.head(20));"
   ]
  },
  {
   "cell_type": "code",
   "execution_count": null,
   "id": "d6980c7e",
   "metadata": {},
   "outputs": [],
   "source": [
    "# step 8 ==> print last 35 rows\n",
    "\n",
    "print(df_prods.tail(35));"
   ]
  },
  {
   "cell_type": "code",
   "execution_count": 4,
   "id": "81b200be",
   "metadata": {},
   "outputs": [
    {
     "data": {
      "text/plain": [
       "Index(['product_id', 'product_name', 'aisle_id', 'department_id', 'prices'], dtype='object')"
      ]
     },
     "execution_count": 4,
     "metadata": {},
     "output_type": "execute_result"
    }
   ],
   "source": [
    "# step 9 ==> coloumn names\n",
    "\n",
    "df_prods.columns"
   ]
  },
  {
   "cell_type": "code",
   "execution_count": null,
   "id": "83b0a224",
   "metadata": {},
   "outputs": [],
   "source": [
    "# step 10 ==> numbers of rows/coloumns\n",
    "\n",
    "df_prods.shape"
   ]
  },
  {
   "cell_type": "code",
   "execution_count": 5,
   "id": "74ba617b",
   "metadata": {},
   "outputs": [
    {
     "data": {
      "text/html": [
       "<div>\n",
       "<style scoped>\n",
       "    .dataframe tbody tr th:only-of-type {\n",
       "        vertical-align: middle;\n",
       "    }\n",
       "\n",
       "    .dataframe tbody tr th {\n",
       "        vertical-align: top;\n",
       "    }\n",
       "\n",
       "    .dataframe thead th {\n",
       "        text-align: right;\n",
       "    }\n",
       "</style>\n",
       "<table border=\"1\" class=\"dataframe\">\n",
       "  <thead>\n",
       "    <tr style=\"text-align: right;\">\n",
       "      <th></th>\n",
       "      <th>product_id</th>\n",
       "      <th>aisle_id</th>\n",
       "      <th>department_id</th>\n",
       "      <th>prices</th>\n",
       "    </tr>\n",
       "  </thead>\n",
       "  <tbody>\n",
       "    <tr>\n",
       "      <th>count</th>\n",
       "      <td>49693.000000</td>\n",
       "      <td>49693.000000</td>\n",
       "      <td>49693.000000</td>\n",
       "      <td>49693.000000</td>\n",
       "    </tr>\n",
       "    <tr>\n",
       "      <th>mean</th>\n",
       "      <td>24844.345139</td>\n",
       "      <td>67.770249</td>\n",
       "      <td>11.728433</td>\n",
       "      <td>9.994136</td>\n",
       "    </tr>\n",
       "    <tr>\n",
       "      <th>std</th>\n",
       "      <td>14343.717401</td>\n",
       "      <td>38.316774</td>\n",
       "      <td>5.850282</td>\n",
       "      <td>453.519686</td>\n",
       "    </tr>\n",
       "    <tr>\n",
       "      <th>min</th>\n",
       "      <td>1.000000</td>\n",
       "      <td>1.000000</td>\n",
       "      <td>1.000000</td>\n",
       "      <td>1.000000</td>\n",
       "    </tr>\n",
       "    <tr>\n",
       "      <th>25%</th>\n",
       "      <td>12423.000000</td>\n",
       "      <td>35.000000</td>\n",
       "      <td>7.000000</td>\n",
       "      <td>4.100000</td>\n",
       "    </tr>\n",
       "    <tr>\n",
       "      <th>50%</th>\n",
       "      <td>24845.000000</td>\n",
       "      <td>69.000000</td>\n",
       "      <td>13.000000</td>\n",
       "      <td>7.100000</td>\n",
       "    </tr>\n",
       "    <tr>\n",
       "      <th>75%</th>\n",
       "      <td>37265.000000</td>\n",
       "      <td>100.000000</td>\n",
       "      <td>17.000000</td>\n",
       "      <td>11.200000</td>\n",
       "    </tr>\n",
       "    <tr>\n",
       "      <th>max</th>\n",
       "      <td>49688.000000</td>\n",
       "      <td>134.000000</td>\n",
       "      <td>21.000000</td>\n",
       "      <td>99999.000000</td>\n",
       "    </tr>\n",
       "  </tbody>\n",
       "</table>\n",
       "</div>"
      ],
      "text/plain": [
       "         product_id      aisle_id  department_id        prices\n",
       "count  49693.000000  49693.000000   49693.000000  49693.000000\n",
       "mean   24844.345139     67.770249      11.728433      9.994136\n",
       "std    14343.717401     38.316774       5.850282    453.519686\n",
       "min        1.000000      1.000000       1.000000      1.000000\n",
       "25%    12423.000000     35.000000       7.000000      4.100000\n",
       "50%    24845.000000     69.000000      13.000000      7.100000\n",
       "75%    37265.000000    100.000000      17.000000     11.200000\n",
       "max    49688.000000    134.000000      21.000000  99999.000000"
      ]
     },
     "execution_count": 5,
     "metadata": {},
     "output_type": "execute_result"
    }
   ],
   "source": [
    "# step 11.1 ==> getting maximum value\n",
    "\n",
    "df_prods.describe()"
   ]
  },
  {
   "cell_type": "markdown",
   "id": "c8d2efa2",
   "metadata": {},
   "source": [
    "The maximum value of aisle_id is 134."
   ]
  },
  {
   "cell_type": "code",
   "execution_count": null,
   "id": "fca2d8b2",
   "metadata": {},
   "outputs": [],
   "source": [
    "# step 11.2 ==> getting the type of departement_id\n",
    "\n",
    "df.info()"
   ]
  }
 ],
 "metadata": {
  "kernelspec": {
   "display_name": "Python 3 (ipykernel)",
   "language": "python",
   "name": "python3"
  },
  "language_info": {
   "codemirror_mode": {
    "name": "ipython",
    "version": 3
   },
   "file_extension": ".py",
   "mimetype": "text/x-python",
   "name": "python",
   "nbconvert_exporter": "python",
   "pygments_lexer": "ipython3",
   "version": "3.8.13"
  }
 },
 "nbformat": 4,
 "nbformat_minor": 5
}
