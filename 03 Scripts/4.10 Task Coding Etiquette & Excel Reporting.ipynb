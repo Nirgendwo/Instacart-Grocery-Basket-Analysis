{
 "cells": [
  {
   "cell_type": "markdown",
   "id": "7f4c52dc",
   "metadata": {},
   "source": [
    "### Content\n",
    "- data security\n",
    "- regional segmentation into 4 regions\n",
    "- exclusion flag for low-activity customers\n",
    "- customer profiling#\n",
    "- create fitting visualization\n",
    "- Aggregate standart values on customer profile level for usage frequency and expenditure\n",
    "- Visualisations"
   ]
  },
  {
   "cell_type": "markdown",
   "id": "7d106789",
   "metadata": {},
   "source": [
    "### 01 import lybaries and df"
   ]
  },
  {
   "cell_type": "code",
   "execution_count": 1,
   "id": "930abe9b",
   "metadata": {
    "ExecuteTime": {
     "end_time": "2022-11-07T10:58:01.097199Z",
     "start_time": "2022-11-07T10:57:58.513935Z"
    }
   },
   "outputs": [],
   "source": [
    "# importing lybaries\n",
    "\n",
    "import pandas as pd\n",
    "import numpy as np\n",
    "import os\n",
    "import matplotlib.pyplot as plt\n",
    "import seaborn as sns\n",
    "import scipy\n",
    "from scipy import stats"
   ]
  },
  {
   "cell_type": "code",
   "execution_count": 2,
   "id": "fbe162d9",
   "metadata": {
    "ExecuteTime": {
     "end_time": "2022-11-07T10:58:18.579195Z",
     "start_time": "2022-11-07T10:58:01.099194Z"
    }
   },
   "outputs": [],
   "source": [
    "# import data sets\n",
    "\n",
    "path = r'/Users/lennartzeidler/Desktop/Uni/Instacart Basket Analysis 08.10.2022 (4)'\n",
    "\n",
    "ords_prods_all = pd.read_pickle(os.path.join(path, '02 Data','Prepared Data', 'orders_prods_all.pkl'))"
   ]
  },
  {
   "cell_type": "markdown",
   "id": "c4893510",
   "metadata": {},
   "source": [
    "checking df"
   ]
  },
  {
   "cell_type": "code",
   "execution_count": 3,
   "id": "f9bdc2f1",
   "metadata": {
    "ExecuteTime": {
     "end_time": "2022-11-07T10:58:18.591979Z",
     "start_time": "2022-11-07T10:58:18.582012Z"
    },
    "scrolled": true
   },
   "outputs": [
    {
     "data": {
      "text/plain": [
       "(32399732, 26)"
      ]
     },
     "execution_count": 3,
     "metadata": {},
     "output_type": "execute_result"
    }
   ],
   "source": [
    "ords_prods_all.shape"
   ]
  },
  {
   "cell_type": "code",
   "execution_count": 4,
   "id": "2ebd9a34",
   "metadata": {
    "ExecuteTime": {
     "end_time": "2022-11-07T10:58:18.617545Z",
     "start_time": "2022-11-07T10:58:18.594079Z"
    },
    "scrolled": true
   },
   "outputs": [
    {
     "data": {
      "text/html": [
       "<div>\n",
       "<style scoped>\n",
       "    .dataframe tbody tr th:only-of-type {\n",
       "        vertical-align: middle;\n",
       "    }\n",
       "\n",
       "    .dataframe tbody tr th {\n",
       "        vertical-align: top;\n",
       "    }\n",
       "\n",
       "    .dataframe thead th {\n",
       "        text-align: right;\n",
       "    }\n",
       "</style>\n",
       "<table border=\"1\" class=\"dataframe\">\n",
       "  <thead>\n",
       "    <tr style=\"text-align: right;\">\n",
       "      <th></th>\n",
       "      <th>user_id</th>\n",
       "      <th>gender</th>\n",
       "      <th>state</th>\n",
       "      <th>age</th>\n",
       "      <th>date_joined</th>\n",
       "      <th>dependants_count</th>\n",
       "      <th>fam_status</th>\n",
       "      <th>income</th>\n",
       "      <th>order_id</th>\n",
       "      <th>order_number</th>\n",
       "      <th>...</th>\n",
       "      <th>product_name</th>\n",
       "      <th>department_id</th>\n",
       "      <th>prices</th>\n",
       "      <th>price_range</th>\n",
       "      <th>busiest_day</th>\n",
       "      <th>busiest_days</th>\n",
       "      <th>busiest_hours</th>\n",
       "      <th>loyalty_flag</th>\n",
       "      <th>avg_price_flag</th>\n",
       "      <th>order_frequency_flag</th>\n",
       "    </tr>\n",
       "  </thead>\n",
       "  <tbody>\n",
       "    <tr>\n",
       "      <th>0</th>\n",
       "      <td>26711</td>\n",
       "      <td>Female</td>\n",
       "      <td>Missouri</td>\n",
       "      <td>48</td>\n",
       "      <td>1/1/2017</td>\n",
       "      <td>3</td>\n",
       "      <td>married</td>\n",
       "      <td>165665</td>\n",
       "      <td>2543867</td>\n",
       "      <td>5</td>\n",
       "      <td>...</td>\n",
       "      <td>Soda</td>\n",
       "      <td>7</td>\n",
       "      <td>9.0</td>\n",
       "      <td>Mid-range product</td>\n",
       "      <td>Regularly busy</td>\n",
       "      <td>Busiest days</td>\n",
       "      <td>Busiest hours</td>\n",
       "      <td>New customer</td>\n",
       "      <td>Low spender</td>\n",
       "      <td>Regular customer</td>\n",
       "    </tr>\n",
       "    <tr>\n",
       "      <th>1</th>\n",
       "      <td>26711</td>\n",
       "      <td>Female</td>\n",
       "      <td>Missouri</td>\n",
       "      <td>48</td>\n",
       "      <td>1/1/2017</td>\n",
       "      <td>3</td>\n",
       "      <td>married</td>\n",
       "      <td>165665</td>\n",
       "      <td>1285508</td>\n",
       "      <td>7</td>\n",
       "      <td>...</td>\n",
       "      <td>Soda</td>\n",
       "      <td>7</td>\n",
       "      <td>9.0</td>\n",
       "      <td>Mid-range product</td>\n",
       "      <td>Regularly busy</td>\n",
       "      <td>Regulary busy days</td>\n",
       "      <td>Busiest hours</td>\n",
       "      <td>New customer</td>\n",
       "      <td>Low spender</td>\n",
       "      <td>Regular customer</td>\n",
       "    </tr>\n",
       "    <tr>\n",
       "      <th>2</th>\n",
       "      <td>26711</td>\n",
       "      <td>Female</td>\n",
       "      <td>Missouri</td>\n",
       "      <td>48</td>\n",
       "      <td>1/1/2017</td>\n",
       "      <td>3</td>\n",
       "      <td>married</td>\n",
       "      <td>165665</td>\n",
       "      <td>2578584</td>\n",
       "      <td>8</td>\n",
       "      <td>...</td>\n",
       "      <td>Soda</td>\n",
       "      <td>7</td>\n",
       "      <td>9.0</td>\n",
       "      <td>Mid-range product</td>\n",
       "      <td>Regularly busy</td>\n",
       "      <td>Busiest days</td>\n",
       "      <td>Busiest hours</td>\n",
       "      <td>New customer</td>\n",
       "      <td>Low spender</td>\n",
       "      <td>Regular customer</td>\n",
       "    </tr>\n",
       "    <tr>\n",
       "      <th>3</th>\n",
       "      <td>26711</td>\n",
       "      <td>Female</td>\n",
       "      <td>Missouri</td>\n",
       "      <td>48</td>\n",
       "      <td>1/1/2017</td>\n",
       "      <td>3</td>\n",
       "      <td>married</td>\n",
       "      <td>165665</td>\n",
       "      <td>423547</td>\n",
       "      <td>2</td>\n",
       "      <td>...</td>\n",
       "      <td>0% Greek Strained Yogurt</td>\n",
       "      <td>16</td>\n",
       "      <td>12.6</td>\n",
       "      <td>Mid-range product</td>\n",
       "      <td>Regularly busy</td>\n",
       "      <td>Regulary busy days</td>\n",
       "      <td>Busiest hours</td>\n",
       "      <td>New customer</td>\n",
       "      <td>Low spender</td>\n",
       "      <td>Regular customer</td>\n",
       "    </tr>\n",
       "    <tr>\n",
       "      <th>4</th>\n",
       "      <td>26711</td>\n",
       "      <td>Female</td>\n",
       "      <td>Missouri</td>\n",
       "      <td>48</td>\n",
       "      <td>1/1/2017</td>\n",
       "      <td>3</td>\n",
       "      <td>married</td>\n",
       "      <td>165665</td>\n",
       "      <td>2524893</td>\n",
       "      <td>3</td>\n",
       "      <td>...</td>\n",
       "      <td>0% Greek Strained Yogurt</td>\n",
       "      <td>16</td>\n",
       "      <td>12.6</td>\n",
       "      <td>Mid-range product</td>\n",
       "      <td>Regularly busy</td>\n",
       "      <td>Slowest days</td>\n",
       "      <td>Busiest hours</td>\n",
       "      <td>New customer</td>\n",
       "      <td>Low spender</td>\n",
       "      <td>Regular customer</td>\n",
       "    </tr>\n",
       "  </tbody>\n",
       "</table>\n",
       "<p>5 rows × 26 columns</p>\n",
       "</div>"
      ],
      "text/plain": [
       "   user_id  gender     state  age date_joined  dependants_count fam_status  \\\n",
       "0    26711  Female  Missouri   48    1/1/2017                 3    married   \n",
       "1    26711  Female  Missouri   48    1/1/2017                 3    married   \n",
       "2    26711  Female  Missouri   48    1/1/2017                 3    married   \n",
       "3    26711  Female  Missouri   48    1/1/2017                 3    married   \n",
       "4    26711  Female  Missouri   48    1/1/2017                 3    married   \n",
       "\n",
       "   income  order_id  order_number  ...              product_name  \\\n",
       "0  165665   2543867             5  ...                      Soda   \n",
       "1  165665   1285508             7  ...                      Soda   \n",
       "2  165665   2578584             8  ...                      Soda   \n",
       "3  165665    423547             2  ...  0% Greek Strained Yogurt   \n",
       "4  165665   2524893             3  ...  0% Greek Strained Yogurt   \n",
       "\n",
       "   department_id  prices        price_range     busiest_day  \\\n",
       "0              7     9.0  Mid-range product  Regularly busy   \n",
       "1              7     9.0  Mid-range product  Regularly busy   \n",
       "2              7     9.0  Mid-range product  Regularly busy   \n",
       "3             16    12.6  Mid-range product  Regularly busy   \n",
       "4             16    12.6  Mid-range product  Regularly busy   \n",
       "\n",
       "         busiest_days  busiest_hours  loyalty_flag  avg_price_flag  \\\n",
       "0        Busiest days  Busiest hours  New customer     Low spender   \n",
       "1  Regulary busy days  Busiest hours  New customer     Low spender   \n",
       "2        Busiest days  Busiest hours  New customer     Low spender   \n",
       "3  Regulary busy days  Busiest hours  New customer     Low spender   \n",
       "4        Slowest days  Busiest hours  New customer     Low spender   \n",
       "\n",
       "  order_frequency_flag  \n",
       "0     Regular customer  \n",
       "1     Regular customer  \n",
       "2     Regular customer  \n",
       "3     Regular customer  \n",
       "4     Regular customer  \n",
       "\n",
       "[5 rows x 26 columns]"
      ]
     },
     "execution_count": 4,
     "metadata": {},
     "output_type": "execute_result"
    }
   ],
   "source": [
    "ords_prods_all.head()"
   ]
  },
  {
   "cell_type": "markdown",
   "id": "f88248e1",
   "metadata": {},
   "source": [
    "### 02 data security\n"
   ]
  },
  {
   "cell_type": "code",
   "execution_count": 5,
   "id": "81947a1d",
   "metadata": {
    "ExecuteTime": {
     "end_time": "2022-11-07T10:58:18.626231Z",
     "start_time": "2022-11-07T10:58:18.620355Z"
    }
   },
   "outputs": [
    {
     "data": {
      "text/plain": [
       "Index(['user_id', 'gender', 'state', 'age', 'date_joined', 'dependants_count',\n",
       "       'fam_status', 'income', 'order_id', 'order_number', 'order_day_of_week',\n",
       "       'order_hour_of_day', 'days_since_prior_order', 'product_id',\n",
       "       'add_to_cart_order', 'reordered', 'product_name', 'department_id',\n",
       "       'prices', 'price_range', 'busiest_day', 'busiest_days', 'busiest_hours',\n",
       "       'loyalty_flag', 'avg_price_flag', 'order_frequency_flag'],\n",
       "      dtype='object')"
      ]
     },
     "execution_count": 5,
     "metadata": {},
     "output_type": "execute_result"
    }
   ],
   "source": [
    "ords_prods_all.columns"
   ]
  },
  {
   "cell_type": "markdown",
   "id": "3742f3b0",
   "metadata": {},
   "source": [
    "To make a generall statement most of the columns from the customer df is PII Data. That includes the following columns:  \n",
    "- gender  \n",
    "- state  \n",
    "- age  \n",
    "- date_joined  \n",
    "- dependants_count  \n",
    "- fam_status  \n",
    "- income"
   ]
  },
  {
   "cell_type": "markdown",
   "id": "cf3056cd",
   "metadata": {},
   "source": [
    "### 03 regional segmentation into 4 regions"
   ]
  },
  {
   "cell_type": "code",
   "execution_count": 6,
   "id": "c715a44d",
   "metadata": {
    "ExecuteTime": {
     "end_time": "2022-11-07T10:58:18.634011Z",
     "start_time": "2022-11-07T10:58:18.629331Z"
    }
   },
   "outputs": [],
   "source": [
    "# define the four regions\n",
    "\n",
    " # Northeast\n",
    "region_1 =['Maine', 'New Hampshire', 'Vermont', 'Massachusetts', 'Rhode Island', 'Connecticut', 'New York', 'Pennsylvania', 'New Jersey']\n",
    "\n",
    "# Midwest\n",
    "region_2 = ['Wisconsin', 'Michigan', 'Illinois', 'Indiana', 'Ohio', 'North Dakota', 'South Dakota', 'Nebraska', 'Kansas', 'Minnesota', 'Iowa', 'Missouri']\n",
    "\n",
    "# South\n",
    "region_3 = ['Delaware', 'Maryland', 'District of Columbia', 'Virginia', 'West Virginia', 'North Carolina', 'South Carolina', 'Georgia', 'Florida', 'Kentucky', 'Tennessee', 'Mississippi', 'Alabama', 'Oklahoma', 'Texas', 'Arkansas', 'Louisiana']\n",
    "\n",
    "# West \n",
    "region_4 = ['Idaho','Montana', 'Wyoming', 'Nevada', 'Utah', 'Colorado', 'Arizona', 'New Mexico', 'Alaska', 'Washington', 'Oregon', 'California', 'Hawaii']\n"
   ]
  },
  {
   "cell_type": "code",
   "execution_count": 7,
   "id": "77544eea",
   "metadata": {
    "ExecuteTime": {
     "end_time": "2022-11-07T10:58:20.217477Z",
     "start_time": "2022-11-07T10:58:18.636915Z"
    }
   },
   "outputs": [
    {
     "data": {
      "text/plain": [
       "True"
      ]
     },
     "execution_count": 7,
     "metadata": {},
     "output_type": "execute_result"
    }
   ],
   "source": [
    "# checking if column and new arrays containe same amount of regions\n",
    "len(region_1) + len(region_2) + len(region_3) + len(region_4) == len(ords_prods_all['state'].value_counts())"
   ]
  },
  {
   "cell_type": "code",
   "execution_count": 8,
   "id": "c93918c9",
   "metadata": {
    "ExecuteTime": {
     "end_time": "2022-11-07T10:58:27.538950Z",
     "start_time": "2022-11-07T10:58:20.222826Z"
    }
   },
   "outputs": [],
   "source": [
    "#creating new column using loc()\n",
    "\n",
    "ords_prods_all.loc[ords_prods_all['state'].isin(region_1), 'region'] = 'Region 1'\n",
    "ords_prods_all.loc[ords_prods_all['state'].isin(region_2), 'region'] = 'Region 2'\n",
    "ords_prods_all.loc[ords_prods_all['state'].isin(region_3), 'region'] = 'Region 3'\n",
    "ords_prods_all.loc[ords_prods_all['state'].isin(region_4), 'region'] = 'Region 4'\n"
   ]
  },
  {
   "cell_type": "code",
   "execution_count": 9,
   "id": "3d0d2597",
   "metadata": {
    "ExecuteTime": {
     "end_time": "2022-11-07T10:58:27.982234Z",
     "start_time": "2022-11-07T10:58:27.540651Z"
    }
   },
   "outputs": [
    {
     "data": {
      "text/plain": [
       "Region 3    10790096\n",
       "Region 4     8291679\n",
       "Region 2     7596065\n",
       "Region 1     5721892\n",
       "Name: region, dtype: int64"
      ]
     },
     "execution_count": 9,
     "metadata": {},
     "output_type": "execute_result"
    }
   ],
   "source": [
    "# check if new column is completly filled\n",
    "ords_prods_all['region'].value_counts(dropna=False)"
   ]
  },
  {
   "cell_type": "code",
   "execution_count": 10,
   "id": "9272c258",
   "metadata": {
    "ExecuteTime": {
     "end_time": "2022-11-07T10:58:34.202339Z",
     "start_time": "2022-11-07T10:58:27.984247Z"
    }
   },
   "outputs": [],
   "source": [
    "# creating crostab containing count of different spenders categorized by region\n",
    "crosstab = pd.crosstab(ords_prods_all['region'], ords_prods_all['avg_price_flag'], dropna = False)"
   ]
  },
  {
   "cell_type": "code",
   "execution_count": 11,
   "id": "acd30e9f",
   "metadata": {
    "ExecuteTime": {
     "end_time": "2022-11-07T10:58:34.209777Z",
     "start_time": "2022-11-07T10:58:34.204844Z"
    }
   },
   "outputs": [],
   "source": [
    "# creating new crostab column to calculate the relative amount of high spenders\n",
    "\n",
    "crosstab['relative amount of High spender'] = round((crosstab['High spender'] + crosstab['Low spender']) / crosstab['High spender'], 0)"
   ]
  },
  {
   "cell_type": "code",
   "execution_count": 12,
   "id": "04c60d66",
   "metadata": {
    "ExecuteTime": {
     "end_time": "2022-11-07T10:58:34.219958Z",
     "start_time": "2022-11-07T10:58:34.212233Z"
    },
    "scrolled": true
   },
   "outputs": [
    {
     "data": {
      "text/html": [
       "<div>\n",
       "<style scoped>\n",
       "    .dataframe tbody tr th:only-of-type {\n",
       "        vertical-align: middle;\n",
       "    }\n",
       "\n",
       "    .dataframe tbody tr th {\n",
       "        vertical-align: top;\n",
       "    }\n",
       "\n",
       "    .dataframe thead th {\n",
       "        text-align: right;\n",
       "    }\n",
       "</style>\n",
       "<table border=\"1\" class=\"dataframe\">\n",
       "  <thead>\n",
       "    <tr style=\"text-align: right;\">\n",
       "      <th>avg_price_flag</th>\n",
       "      <th>High spender</th>\n",
       "      <th>Low spender</th>\n",
       "      <th>relative amount of High spender</th>\n",
       "    </tr>\n",
       "    <tr>\n",
       "      <th>region</th>\n",
       "      <th></th>\n",
       "      <th></th>\n",
       "      <th></th>\n",
       "    </tr>\n",
       "  </thead>\n",
       "  <tbody>\n",
       "    <tr>\n",
       "      <th>Region 1</th>\n",
       "      <td>18639</td>\n",
       "      <td>5703253</td>\n",
       "      <td>307.0</td>\n",
       "    </tr>\n",
       "    <tr>\n",
       "      <th>Region 2</th>\n",
       "      <td>29265</td>\n",
       "      <td>7566800</td>\n",
       "      <td>260.0</td>\n",
       "    </tr>\n",
       "    <tr>\n",
       "      <th>Region 3</th>\n",
       "      <td>40577</td>\n",
       "      <td>10749519</td>\n",
       "      <td>266.0</td>\n",
       "    </tr>\n",
       "    <tr>\n",
       "      <th>Region 4</th>\n",
       "      <td>31238</td>\n",
       "      <td>8260441</td>\n",
       "      <td>265.0</td>\n",
       "    </tr>\n",
       "  </tbody>\n",
       "</table>\n",
       "</div>"
      ],
      "text/plain": [
       "avg_price_flag  High spender  Low spender  relative amount of High spender\n",
       "region                                                                    \n",
       "Region 1               18639      5703253                            307.0\n",
       "Region 2               29265      7566800                            260.0\n",
       "Region 3               40577     10749519                            266.0\n",
       "Region 4               31238      8260441                            265.0"
      ]
     },
     "execution_count": 12,
     "metadata": {},
     "output_type": "execute_result"
    }
   ],
   "source": [
    "crosstab"
   ]
  },
  {
   "cell_type": "markdown",
   "id": "554fb62e",
   "metadata": {},
   "source": [
    "#### result\n",
    "Meaning of new column (example region 1):  \n",
    "- every 307 customer is a High spender in this region\n",
    "- as lower the number is as high spenders does the region has  \n",
    "  \n",
    "Region 1 has the biggest amount of high spenders (40577). However, Region 2 has the biggest proportion of high-spending clients compared to the total number of customers in the region. Here every 260's customer is a high spender customer."
   ]
  },
  {
   "cell_type": "markdown",
   "id": "dcda05f8",
   "metadata": {},
   "source": [
    "### 04 exclusion flag for low-activity customers"
   ]
  },
  {
   "cell_type": "code",
   "execution_count": 13,
   "id": "6f7cb2bc",
   "metadata": {
    "ExecuteTime": {
     "end_time": "2022-11-07T10:58:35.366226Z",
     "start_time": "2022-11-07T10:58:34.222389Z"
    },
    "scrolled": true
   },
   "outputs": [
    {
     "data": {
      "text/plain": [
       "Frequent customer        21556644\n",
       "Regular customer          8824823\n",
       "Non-frequent customer        5004\n",
       "Name: order_frequency_flag, dtype: int64"
      ]
     },
     "execution_count": 13,
     "metadata": {},
     "output_type": "execute_result"
    }
   ],
   "source": [
    "ords_prods_all['order_frequency_flag'].value_counts()"
   ]
  },
  {
   "cell_type": "code",
   "execution_count": 14,
   "id": "2a8de158",
   "metadata": {
    "ExecuteTime": {
     "end_time": "2022-11-07T10:58:36.858478Z",
     "start_time": "2022-11-07T10:58:35.369166Z"
    }
   },
   "outputs": [],
   "source": [
    "ords_prods_all['max_order'] = ords_prods_all.groupby(['user_id'])['order_number'].transform(np.max)"
   ]
  },
  {
   "cell_type": "code",
   "execution_count": 15,
   "id": "f7eab916",
   "metadata": {
    "ExecuteTime": {
     "end_time": "2022-11-07T10:58:39.563168Z",
     "start_time": "2022-11-07T10:58:36.860469Z"
    }
   },
   "outputs": [],
   "source": [
    "ords_prods_all.loc[ords_prods_all['max_order'] >= 5, 'activity_flag'] = 'high_activity'\n",
    "ords_prods_all.loc[ords_prods_all['max_order'] < 5, 'activity_flag'] = 'low_activity'"
   ]
  },
  {
   "cell_type": "code",
   "execution_count": 16,
   "id": "65e02fe0",
   "metadata": {
    "ExecuteTime": {
     "end_time": "2022-11-07T10:58:40.725847Z",
     "start_time": "2022-11-07T10:58:39.565403Z"
    }
   },
   "outputs": [
    {
     "data": {
      "text/plain": [
       "high_activity    30959687\n",
       "low_activity      1440045\n",
       "Name: activity_flag, dtype: int64"
      ]
     },
     "execution_count": 16,
     "metadata": {},
     "output_type": "execute_result"
    }
   ],
   "source": [
    "ords_prods_all['activity_flag'].value_counts()"
   ]
  },
  {
   "cell_type": "code",
   "execution_count": 17,
   "id": "4d2a4cff",
   "metadata": {
    "ExecuteTime": {
     "end_time": "2022-11-07T10:59:39.683286Z",
     "start_time": "2022-11-07T10:58:40.727979Z"
    }
   },
   "outputs": [],
   "source": [
    "# create new df excluding low_active customers\n",
    "high_active_customers = ords_prods_all[ords_prods_all['activity_flag'] == 'high_activity']"
   ]
  },
  {
   "cell_type": "code",
   "execution_count": 18,
   "id": "32b2002d",
   "metadata": {
    "ExecuteTime": {
     "end_time": "2022-11-07T10:59:39.729579Z",
     "start_time": "2022-11-07T10:59:39.701598Z"
    }
   },
   "outputs": [
    {
     "data": {
      "text/plain": [
       "(30959687, 29)"
      ]
     },
     "execution_count": 18,
     "metadata": {},
     "output_type": "execute_result"
    }
   ],
   "source": [
    "high_active_customers.shape"
   ]
  },
  {
   "cell_type": "code",
   "execution_count": 19,
   "id": "b2dcccf8",
   "metadata": {
    "ExecuteTime": {
     "end_time": "2022-11-07T10:59:39.788354Z",
     "start_time": "2022-11-07T10:59:39.734873Z"
    }
   },
   "outputs": [
    {
     "data": {
      "text/html": [
       "<div>\n",
       "<style scoped>\n",
       "    .dataframe tbody tr th:only-of-type {\n",
       "        vertical-align: middle;\n",
       "    }\n",
       "\n",
       "    .dataframe tbody tr th {\n",
       "        vertical-align: top;\n",
       "    }\n",
       "\n",
       "    .dataframe thead th {\n",
       "        text-align: right;\n",
       "    }\n",
       "</style>\n",
       "<table border=\"1\" class=\"dataframe\">\n",
       "  <thead>\n",
       "    <tr style=\"text-align: right;\">\n",
       "      <th></th>\n",
       "      <th>user_id</th>\n",
       "      <th>gender</th>\n",
       "      <th>state</th>\n",
       "      <th>age</th>\n",
       "      <th>date_joined</th>\n",
       "      <th>dependants_count</th>\n",
       "      <th>fam_status</th>\n",
       "      <th>income</th>\n",
       "      <th>order_id</th>\n",
       "      <th>order_number</th>\n",
       "      <th>...</th>\n",
       "      <th>price_range</th>\n",
       "      <th>busiest_day</th>\n",
       "      <th>busiest_days</th>\n",
       "      <th>busiest_hours</th>\n",
       "      <th>loyalty_flag</th>\n",
       "      <th>avg_price_flag</th>\n",
       "      <th>order_frequency_flag</th>\n",
       "      <th>region</th>\n",
       "      <th>max_order</th>\n",
       "      <th>activity_flag</th>\n",
       "    </tr>\n",
       "  </thead>\n",
       "  <tbody>\n",
       "    <tr>\n",
       "      <th>0</th>\n",
       "      <td>26711</td>\n",
       "      <td>Female</td>\n",
       "      <td>Missouri</td>\n",
       "      <td>48</td>\n",
       "      <td>1/1/2017</td>\n",
       "      <td>3</td>\n",
       "      <td>married</td>\n",
       "      <td>165665</td>\n",
       "      <td>2543867</td>\n",
       "      <td>5</td>\n",
       "      <td>...</td>\n",
       "      <td>Mid-range product</td>\n",
       "      <td>Regularly busy</td>\n",
       "      <td>Busiest days</td>\n",
       "      <td>Busiest hours</td>\n",
       "      <td>New customer</td>\n",
       "      <td>Low spender</td>\n",
       "      <td>Regular customer</td>\n",
       "      <td>Region 2</td>\n",
       "      <td>8</td>\n",
       "      <td>high_activity</td>\n",
       "    </tr>\n",
       "    <tr>\n",
       "      <th>1</th>\n",
       "      <td>26711</td>\n",
       "      <td>Female</td>\n",
       "      <td>Missouri</td>\n",
       "      <td>48</td>\n",
       "      <td>1/1/2017</td>\n",
       "      <td>3</td>\n",
       "      <td>married</td>\n",
       "      <td>165665</td>\n",
       "      <td>1285508</td>\n",
       "      <td>7</td>\n",
       "      <td>...</td>\n",
       "      <td>Mid-range product</td>\n",
       "      <td>Regularly busy</td>\n",
       "      <td>Regulary busy days</td>\n",
       "      <td>Busiest hours</td>\n",
       "      <td>New customer</td>\n",
       "      <td>Low spender</td>\n",
       "      <td>Regular customer</td>\n",
       "      <td>Region 2</td>\n",
       "      <td>8</td>\n",
       "      <td>high_activity</td>\n",
       "    </tr>\n",
       "    <tr>\n",
       "      <th>2</th>\n",
       "      <td>26711</td>\n",
       "      <td>Female</td>\n",
       "      <td>Missouri</td>\n",
       "      <td>48</td>\n",
       "      <td>1/1/2017</td>\n",
       "      <td>3</td>\n",
       "      <td>married</td>\n",
       "      <td>165665</td>\n",
       "      <td>2578584</td>\n",
       "      <td>8</td>\n",
       "      <td>...</td>\n",
       "      <td>Mid-range product</td>\n",
       "      <td>Regularly busy</td>\n",
       "      <td>Busiest days</td>\n",
       "      <td>Busiest hours</td>\n",
       "      <td>New customer</td>\n",
       "      <td>Low spender</td>\n",
       "      <td>Regular customer</td>\n",
       "      <td>Region 2</td>\n",
       "      <td>8</td>\n",
       "      <td>high_activity</td>\n",
       "    </tr>\n",
       "    <tr>\n",
       "      <th>3</th>\n",
       "      <td>26711</td>\n",
       "      <td>Female</td>\n",
       "      <td>Missouri</td>\n",
       "      <td>48</td>\n",
       "      <td>1/1/2017</td>\n",
       "      <td>3</td>\n",
       "      <td>married</td>\n",
       "      <td>165665</td>\n",
       "      <td>423547</td>\n",
       "      <td>2</td>\n",
       "      <td>...</td>\n",
       "      <td>Mid-range product</td>\n",
       "      <td>Regularly busy</td>\n",
       "      <td>Regulary busy days</td>\n",
       "      <td>Busiest hours</td>\n",
       "      <td>New customer</td>\n",
       "      <td>Low spender</td>\n",
       "      <td>Regular customer</td>\n",
       "      <td>Region 2</td>\n",
       "      <td>8</td>\n",
       "      <td>high_activity</td>\n",
       "    </tr>\n",
       "    <tr>\n",
       "      <th>4</th>\n",
       "      <td>26711</td>\n",
       "      <td>Female</td>\n",
       "      <td>Missouri</td>\n",
       "      <td>48</td>\n",
       "      <td>1/1/2017</td>\n",
       "      <td>3</td>\n",
       "      <td>married</td>\n",
       "      <td>165665</td>\n",
       "      <td>2524893</td>\n",
       "      <td>3</td>\n",
       "      <td>...</td>\n",
       "      <td>Mid-range product</td>\n",
       "      <td>Regularly busy</td>\n",
       "      <td>Slowest days</td>\n",
       "      <td>Busiest hours</td>\n",
       "      <td>New customer</td>\n",
       "      <td>Low spender</td>\n",
       "      <td>Regular customer</td>\n",
       "      <td>Region 2</td>\n",
       "      <td>8</td>\n",
       "      <td>high_activity</td>\n",
       "    </tr>\n",
       "  </tbody>\n",
       "</table>\n",
       "<p>5 rows × 29 columns</p>\n",
       "</div>"
      ],
      "text/plain": [
       "   user_id  gender     state  age date_joined  dependants_count fam_status  \\\n",
       "0    26711  Female  Missouri   48    1/1/2017                 3    married   \n",
       "1    26711  Female  Missouri   48    1/1/2017                 3    married   \n",
       "2    26711  Female  Missouri   48    1/1/2017                 3    married   \n",
       "3    26711  Female  Missouri   48    1/1/2017                 3    married   \n",
       "4    26711  Female  Missouri   48    1/1/2017                 3    married   \n",
       "\n",
       "   income  order_id  order_number  ...        price_range     busiest_day  \\\n",
       "0  165665   2543867             5  ...  Mid-range product  Regularly busy   \n",
       "1  165665   1285508             7  ...  Mid-range product  Regularly busy   \n",
       "2  165665   2578584             8  ...  Mid-range product  Regularly busy   \n",
       "3  165665    423547             2  ...  Mid-range product  Regularly busy   \n",
       "4  165665   2524893             3  ...  Mid-range product  Regularly busy   \n",
       "\n",
       "         busiest_days  busiest_hours  loyalty_flag  avg_price_flag  \\\n",
       "0        Busiest days  Busiest hours  New customer     Low spender   \n",
       "1  Regulary busy days  Busiest hours  New customer     Low spender   \n",
       "2        Busiest days  Busiest hours  New customer     Low spender   \n",
       "3  Regulary busy days  Busiest hours  New customer     Low spender   \n",
       "4        Slowest days  Busiest hours  New customer     Low spender   \n",
       "\n",
       "  order_frequency_flag    region  max_order  activity_flag  \n",
       "0     Regular customer  Region 2          8  high_activity  \n",
       "1     Regular customer  Region 2          8  high_activity  \n",
       "2     Regular customer  Region 2          8  high_activity  \n",
       "3     Regular customer  Region 2          8  high_activity  \n",
       "4     Regular customer  Region 2          8  high_activity  \n",
       "\n",
       "[5 rows x 29 columns]"
      ]
     },
     "execution_count": 19,
     "metadata": {},
     "output_type": "execute_result"
    }
   ],
   "source": [
    "high_active_customers.head()"
   ]
  },
  {
   "cell_type": "code",
   "execution_count": 20,
   "id": "886b2148",
   "metadata": {
    "ExecuteTime": {
     "end_time": "2022-11-07T11:00:16.039559Z",
     "start_time": "2022-11-07T10:59:39.790952Z"
    }
   },
   "outputs": [],
   "source": [
    "# export df\n",
    "high_active_customers.to_pickle(os.path.join(path, '02 Data','Prepared Data', 'high_active_customers.pkl'))"
   ]
  },
  {
   "cell_type": "markdown",
   "id": "b4ab495b",
   "metadata": {},
   "source": [
    "### 05 data profiling\n",
    "- age\n",
    "- income\n",
    "- department_id"
   ]
  },
  {
   "cell_type": "code",
   "execution_count": 38,
   "id": "ddad7607",
   "metadata": {
    "ExecuteTime": {
     "end_time": "2022-11-07T11:31:59.808084Z",
     "start_time": "2022-11-07T11:31:58.441156Z"
    }
   },
   "outputs": [
    {
     "data": {
      "text/plain": [
       "married                             22753055\n",
       "single                               5324920\n",
       "divorced/widowed                     2771355\n",
       "living with parents and siblings     1550402\n",
       "Name: fam_status, dtype: int64"
      ]
     },
     "execution_count": 38,
     "metadata": {},
     "output_type": "execute_result"
    }
   ],
   "source": [
    "ords_prods_all['fam_status'].value_counts(dropna=False)"
   ]
  },
  {
   "cell_type": "markdown",
   "id": "7d8ba30e",
   "metadata": {},
   "source": [
    "#### age \n",
    "\n",
    "pensioner: age >= 66; young adult: age <= 30; adult: 30 < age < 66"
   ]
  },
  {
   "cell_type": "code",
   "execution_count": 30,
   "id": "3de5cc3b",
   "metadata": {
    "ExecuteTime": {
     "end_time": "2022-11-07T11:16:38.167683Z",
     "start_time": "2022-11-07T11:16:36.847721Z"
    }
   },
   "outputs": [],
   "source": [
    "# create age_profile column\n",
    "ords_prods_all.loc[ords_prods_all['age'] >= 66, 'age_profile'] = 'pensioner'\n",
    "ords_prods_all.loc[ords_prods_all['age'] <= 30, 'age_profile'] = 'young adult'\n",
    "ords_prods_all.loc[(ords_prods_all['age'] < 66) & (ords_prods_all['age'] > 30), 'age_profile'] = 'adult'"
   ]
  },
  {
   "cell_type": "code",
   "execution_count": 31,
   "id": "bee54c79",
   "metadata": {
    "ExecuteTime": {
     "end_time": "2022-11-07T11:16:38.748516Z",
     "start_time": "2022-11-07T11:16:38.343062Z"
    }
   },
   "outputs": [
    {
     "data": {
      "text/plain": [
       "adult          17714621\n",
       "pensioner       8086836\n",
       "young adult     6598275\n",
       "Name: age_profile, dtype: int64"
      ]
     },
     "execution_count": 31,
     "metadata": {},
     "output_type": "execute_result"
    }
   ],
   "source": [
    "ords_prods_all['age_profile'].value_counts(dropna= False)"
   ]
  },
  {
   "cell_type": "code",
   "execution_count": 26,
   "id": "532e812a",
   "metadata": {
    "ExecuteTime": {
     "end_time": "2022-11-07T11:15:01.378353Z",
     "start_time": "2022-11-07T11:15:01.234554Z"
    },
    "scrolled": true
   },
   "outputs": [
    {
     "data": {
      "text/plain": [
       "49    531259\n",
       "79    529691\n",
       "48    529639\n",
       "31    528467\n",
       "64    527882\n",
       "       ...  \n",
       "60    484368\n",
       "36    483764\n",
       "66    476131\n",
       "41    475173\n",
       "25    472129\n",
       "Name: age, Length: 64, dtype: int64"
      ]
     },
     "execution_count": 26,
     "metadata": {},
     "output_type": "execute_result"
    }
   ],
   "source": [
    "ords_prods_all['age'].value_counts()"
   ]
  },
  {
   "cell_type": "markdown",
   "id": "9cb53a36",
   "metadata": {},
   "source": [
    "#### income\n",
    "low income: income < 70000; medium income: 70000 <= income <= 125000; high income: income >= 125000"
   ]
  },
  {
   "cell_type": "code",
   "execution_count": 32,
   "id": "eed7d529",
   "metadata": {
    "ExecuteTime": {
     "end_time": "2022-11-07T11:20:19.359210Z",
     "start_time": "2022-11-07T11:20:18.479129Z"
    }
   },
   "outputs": [
    {
     "data": {
      "text/plain": [
       "count    3.239973e+07\n",
       "mean     9.941685e+04\n",
       "std      4.300669e+04\n",
       "min      2.590300e+04\n",
       "25%      6.699600e+04\n",
       "50%      9.660800e+04\n",
       "75%      1.278840e+05\n",
       "max      5.939010e+05\n",
       "Name: income, dtype: float64"
      ]
     },
     "execution_count": 32,
     "metadata": {},
     "output_type": "execute_result"
    }
   ],
   "source": [
    "ords_prods_all['income'].describe()"
   ]
  },
  {
   "cell_type": "code",
   "execution_count": 33,
   "id": "3ae62d86",
   "metadata": {
    "ExecuteTime": {
     "end_time": "2022-11-07T11:26:19.875329Z",
     "start_time": "2022-11-07T11:26:19.870756Z"
    }
   },
   "outputs": [
    {
     "data": {
      "text/plain": [
       "dtype('int64')"
      ]
     },
     "execution_count": 33,
     "metadata": {},
     "output_type": "execute_result"
    }
   ],
   "source": [
    "ords_prods_all['income'].dtype"
   ]
  },
  {
   "cell_type": "code",
   "execution_count": 34,
   "id": "bb40bba5",
   "metadata": {
    "ExecuteTime": {
     "end_time": "2022-11-07T11:26:27.740700Z",
     "start_time": "2022-11-07T11:26:24.353024Z"
    }
   },
   "outputs": [],
   "source": [
    "ords_prods_all.loc[ords_prods_all['income'] < 70000, 'income_profile'] = 'low income'\n",
    "ords_prods_all.loc[ords_prods_all['income'] > 125000, 'income_profile'] = 'high income'\n",
    "ords_prods_all.loc[(ords_prods_all['income'] <= 125000) & (ords_prods_all['income'] >= 70000), 'income_profile'] = 'medium income'"
   ]
  },
  {
   "cell_type": "code",
   "execution_count": 37,
   "id": "a59c1afd",
   "metadata": {
    "ExecuteTime": {
     "end_time": "2022-11-07T11:26:49.694151Z",
     "start_time": "2022-11-07T11:26:49.288855Z"
    }
   },
   "outputs": [
    {
     "data": {
      "text/plain": [
       "medium income    14777449\n",
       "low income        8995710\n",
       "high income       8626573\n",
       "Name: income_profile, dtype: int64"
      ]
     },
     "execution_count": 37,
     "metadata": {},
     "output_type": "execute_result"
    }
   ],
   "source": [
    "ords_prods_all['income_profile'].value_counts(dropna=False)"
   ]
  },
  {
   "cell_type": "markdown",
   "id": "719075c7",
   "metadata": {},
   "source": [
    "#### department_id\n",
    "I decided not to make a column containing different profiling options. I prefer to create a column containing the department with the most bought department."
   ]
  },
  {
   "cell_type": "code",
   "execution_count": 48,
   "id": "2ef60c67",
   "metadata": {
    "ExecuteTime": {
     "end_time": "2022-11-07T11:39:12.076767Z",
     "start_time": "2022-11-07T11:39:12.069228Z"
    }
   },
   "outputs": [],
   "source": [
    "# import departments df\n",
    "departments = pd.read_csv(os.path.join(path, '02 Data','Prepared Data', 'departments_wrangled.csv'))"
   ]
  },
  {
   "cell_type": "code",
   "execution_count": 55,
   "id": "be87f33e",
   "metadata": {
    "ExecuteTime": {
     "end_time": "2022-11-07T11:41:40.737309Z",
     "start_time": "2022-11-07T11:41:40.724824Z"
    }
   },
   "outputs": [
    {
     "data": {
      "text/html": [
       "<div>\n",
       "<style scoped>\n",
       "    .dataframe tbody tr th:only-of-type {\n",
       "        vertical-align: middle;\n",
       "    }\n",
       "\n",
       "    .dataframe tbody tr th {\n",
       "        vertical-align: top;\n",
       "    }\n",
       "\n",
       "    .dataframe thead th {\n",
       "        text-align: right;\n",
       "    }\n",
       "</style>\n",
       "<table border=\"1\" class=\"dataframe\">\n",
       "  <thead>\n",
       "    <tr style=\"text-align: right;\">\n",
       "      <th></th>\n",
       "      <th>Unnamed: 0</th>\n",
       "      <th>department</th>\n",
       "    </tr>\n",
       "  </thead>\n",
       "  <tbody>\n",
       "    <tr>\n",
       "      <th>0</th>\n",
       "      <td>1</td>\n",
       "      <td>frozen</td>\n",
       "    </tr>\n",
       "    <tr>\n",
       "      <th>1</th>\n",
       "      <td>2</td>\n",
       "      <td>other</td>\n",
       "    </tr>\n",
       "    <tr>\n",
       "      <th>2</th>\n",
       "      <td>3</td>\n",
       "      <td>bakery</td>\n",
       "    </tr>\n",
       "    <tr>\n",
       "      <th>3</th>\n",
       "      <td>4</td>\n",
       "      <td>produce</td>\n",
       "    </tr>\n",
       "    <tr>\n",
       "      <th>4</th>\n",
       "      <td>5</td>\n",
       "      <td>alcohol</td>\n",
       "    </tr>\n",
       "  </tbody>\n",
       "</table>\n",
       "</div>"
      ],
      "text/plain": [
       "   Unnamed: 0 department\n",
       "0           1     frozen\n",
       "1           2      other\n",
       "2           3     bakery\n",
       "3           4    produce\n",
       "4           5    alcohol"
      ]
     },
     "execution_count": 55,
     "metadata": {},
     "output_type": "execute_result"
    }
   ],
   "source": [
    "departments.head()"
   ]
  },
  {
   "cell_type": "code",
   "execution_count": 56,
   "id": "6bbfe964",
   "metadata": {
    "ExecuteTime": {
     "end_time": "2022-11-07T11:41:50.602807Z",
     "start_time": "2022-11-07T11:41:50.599102Z"
    }
   },
   "outputs": [],
   "source": [
    "departments = departments.rename(columns = {'Unnamed: 0': 'department_id'})"
   ]
  },
  {
   "cell_type": "code",
   "execution_count": 57,
   "id": "750b40b3",
   "metadata": {
    "ExecuteTime": {
     "end_time": "2022-11-07T11:45:21.553678Z",
     "start_time": "2022-11-07T11:41:53.330529Z"
    }
   },
   "outputs": [],
   "source": [
    "ords_prods_all = ords_prods_all.merge(departments, on = 'department_id')"
   ]
  },
  {
   "cell_type": "code",
   "execution_count": 58,
   "id": "bcc7fe97",
   "metadata": {
    "ExecuteTime": {
     "end_time": "2022-11-07T11:45:21.665173Z",
     "start_time": "2022-11-07T11:45:21.580624Z"
    }
   },
   "outputs": [
    {
     "data": {
      "text/html": [
       "<div>\n",
       "<style scoped>\n",
       "    .dataframe tbody tr th:only-of-type {\n",
       "        vertical-align: middle;\n",
       "    }\n",
       "\n",
       "    .dataframe tbody tr th {\n",
       "        vertical-align: top;\n",
       "    }\n",
       "\n",
       "    .dataframe thead th {\n",
       "        text-align: right;\n",
       "    }\n",
       "</style>\n",
       "<table border=\"1\" class=\"dataframe\">\n",
       "  <thead>\n",
       "    <tr style=\"text-align: right;\">\n",
       "      <th></th>\n",
       "      <th>user_id</th>\n",
       "      <th>gender</th>\n",
       "      <th>state</th>\n",
       "      <th>age</th>\n",
       "      <th>date_joined</th>\n",
       "      <th>dependants_count</th>\n",
       "      <th>fam_status</th>\n",
       "      <th>income</th>\n",
       "      <th>order_id</th>\n",
       "      <th>order_number</th>\n",
       "      <th>...</th>\n",
       "      <th>busiest_hours</th>\n",
       "      <th>loyalty_flag</th>\n",
       "      <th>avg_price_flag</th>\n",
       "      <th>order_frequency_flag</th>\n",
       "      <th>region</th>\n",
       "      <th>max_order</th>\n",
       "      <th>activity_flag</th>\n",
       "      <th>age_profile</th>\n",
       "      <th>income_profile</th>\n",
       "      <th>department</th>\n",
       "    </tr>\n",
       "  </thead>\n",
       "  <tbody>\n",
       "    <tr>\n",
       "      <th>0</th>\n",
       "      <td>26711</td>\n",
       "      <td>Female</td>\n",
       "      <td>Missouri</td>\n",
       "      <td>48</td>\n",
       "      <td>1/1/2017</td>\n",
       "      <td>3</td>\n",
       "      <td>married</td>\n",
       "      <td>165665</td>\n",
       "      <td>2543867</td>\n",
       "      <td>5</td>\n",
       "      <td>...</td>\n",
       "      <td>Busiest hours</td>\n",
       "      <td>New customer</td>\n",
       "      <td>Low spender</td>\n",
       "      <td>Regular customer</td>\n",
       "      <td>Region 2</td>\n",
       "      <td>8</td>\n",
       "      <td>high_activity</td>\n",
       "      <td>adult</td>\n",
       "      <td>high income</td>\n",
       "      <td>beverages</td>\n",
       "    </tr>\n",
       "    <tr>\n",
       "      <th>1</th>\n",
       "      <td>26711</td>\n",
       "      <td>Female</td>\n",
       "      <td>Missouri</td>\n",
       "      <td>48</td>\n",
       "      <td>1/1/2017</td>\n",
       "      <td>3</td>\n",
       "      <td>married</td>\n",
       "      <td>165665</td>\n",
       "      <td>1285508</td>\n",
       "      <td>7</td>\n",
       "      <td>...</td>\n",
       "      <td>Busiest hours</td>\n",
       "      <td>New customer</td>\n",
       "      <td>Low spender</td>\n",
       "      <td>Regular customer</td>\n",
       "      <td>Region 2</td>\n",
       "      <td>8</td>\n",
       "      <td>high_activity</td>\n",
       "      <td>adult</td>\n",
       "      <td>high income</td>\n",
       "      <td>beverages</td>\n",
       "    </tr>\n",
       "    <tr>\n",
       "      <th>2</th>\n",
       "      <td>26711</td>\n",
       "      <td>Female</td>\n",
       "      <td>Missouri</td>\n",
       "      <td>48</td>\n",
       "      <td>1/1/2017</td>\n",
       "      <td>3</td>\n",
       "      <td>married</td>\n",
       "      <td>165665</td>\n",
       "      <td>2578584</td>\n",
       "      <td>8</td>\n",
       "      <td>...</td>\n",
       "      <td>Busiest hours</td>\n",
       "      <td>New customer</td>\n",
       "      <td>Low spender</td>\n",
       "      <td>Regular customer</td>\n",
       "      <td>Region 2</td>\n",
       "      <td>8</td>\n",
       "      <td>high_activity</td>\n",
       "      <td>adult</td>\n",
       "      <td>high income</td>\n",
       "      <td>beverages</td>\n",
       "    </tr>\n",
       "    <tr>\n",
       "      <th>3</th>\n",
       "      <td>33890</td>\n",
       "      <td>Female</td>\n",
       "      <td>New Mexico</td>\n",
       "      <td>36</td>\n",
       "      <td>1/1/2017</td>\n",
       "      <td>0</td>\n",
       "      <td>single</td>\n",
       "      <td>59285</td>\n",
       "      <td>1044841</td>\n",
       "      <td>3</td>\n",
       "      <td>...</td>\n",
       "      <td>Busiest hours</td>\n",
       "      <td>Regular customer</td>\n",
       "      <td>Low spender</td>\n",
       "      <td>Regular customer</td>\n",
       "      <td>Region 4</td>\n",
       "      <td>12</td>\n",
       "      <td>high_activity</td>\n",
       "      <td>adult</td>\n",
       "      <td>low income</td>\n",
       "      <td>beverages</td>\n",
       "    </tr>\n",
       "    <tr>\n",
       "      <th>4</th>\n",
       "      <td>33890</td>\n",
       "      <td>Female</td>\n",
       "      <td>New Mexico</td>\n",
       "      <td>36</td>\n",
       "      <td>1/1/2017</td>\n",
       "      <td>0</td>\n",
       "      <td>single</td>\n",
       "      <td>59285</td>\n",
       "      <td>474720</td>\n",
       "      <td>4</td>\n",
       "      <td>...</td>\n",
       "      <td>Regulary busy hours</td>\n",
       "      <td>Regular customer</td>\n",
       "      <td>Low spender</td>\n",
       "      <td>Regular customer</td>\n",
       "      <td>Region 4</td>\n",
       "      <td>12</td>\n",
       "      <td>high_activity</td>\n",
       "      <td>adult</td>\n",
       "      <td>low income</td>\n",
       "      <td>beverages</td>\n",
       "    </tr>\n",
       "  </tbody>\n",
       "</table>\n",
       "<p>5 rows × 32 columns</p>\n",
       "</div>"
      ],
      "text/plain": [
       "   user_id  gender       state  age date_joined  dependants_count fam_status  \\\n",
       "0    26711  Female    Missouri   48    1/1/2017                 3    married   \n",
       "1    26711  Female    Missouri   48    1/1/2017                 3    married   \n",
       "2    26711  Female    Missouri   48    1/1/2017                 3    married   \n",
       "3    33890  Female  New Mexico   36    1/1/2017                 0     single   \n",
       "4    33890  Female  New Mexico   36    1/1/2017                 0     single   \n",
       "\n",
       "   income  order_id  order_number  ...        busiest_hours      loyalty_flag  \\\n",
       "0  165665   2543867             5  ...        Busiest hours      New customer   \n",
       "1  165665   1285508             7  ...        Busiest hours      New customer   \n",
       "2  165665   2578584             8  ...        Busiest hours      New customer   \n",
       "3   59285   1044841             3  ...        Busiest hours  Regular customer   \n",
       "4   59285    474720             4  ...  Regulary busy hours  Regular customer   \n",
       "\n",
       "   avg_price_flag  order_frequency_flag    region  max_order  activity_flag  \\\n",
       "0     Low spender      Regular customer  Region 2          8  high_activity   \n",
       "1     Low spender      Regular customer  Region 2          8  high_activity   \n",
       "2     Low spender      Regular customer  Region 2          8  high_activity   \n",
       "3     Low spender      Regular customer  Region 4         12  high_activity   \n",
       "4     Low spender      Regular customer  Region 4         12  high_activity   \n",
       "\n",
       "   age_profile  income_profile department  \n",
       "0        adult     high income  beverages  \n",
       "1        adult     high income  beverages  \n",
       "2        adult     high income  beverages  \n",
       "3        adult      low income  beverages  \n",
       "4        adult      low income  beverages  \n",
       "\n",
       "[5 rows x 32 columns]"
      ]
     },
     "execution_count": 58,
     "metadata": {},
     "output_type": "execute_result"
    }
   ],
   "source": [
    "ords_prods_all.head()"
   ]
  },
  {
   "cell_type": "code",
   "execution_count": 66,
   "id": "0899582d",
   "metadata": {
    "ExecuteTime": {
     "end_time": "2022-11-07T12:02:29.827790Z",
     "start_time": "2022-11-07T12:02:09.511295Z"
    }
   },
   "outputs": [],
   "source": [
    "# create new column containing most_ordered_product\n",
    "\n",
    "ords_prods_all['most_ordered_product'] = ords_prods_all.groupby(['user_id'])['department'].transform(np.max)"
   ]
  },
  {
   "cell_type": "code",
   "execution_count": 67,
   "id": "ffec9a28",
   "metadata": {
    "ExecuteTime": {
     "end_time": "2022-11-07T12:02:30.957438Z",
     "start_time": "2022-11-07T12:02:29.830013Z"
    }
   },
   "outputs": [
    {
     "data": {
      "text/plain": [
       "snacks             30983418\n",
       "produce             1317502\n",
       "personal care         31766\n",
       "pantry                24875\n",
       "household              8247\n",
       "dairy eggs             7625\n",
       "beverages              6827\n",
       "pets                   6065\n",
       "frozen                 4661\n",
       "meat seafood           2121\n",
       "missing                1943\n",
       "international          1014\n",
       "other                   947\n",
       "deli                    883\n",
       "alcohol                 717\n",
       "dry goods pasta         540\n",
       "breakfast               230\n",
       "canned goods            177\n",
       "bakery                  138\n",
       "babies                   31\n",
       "bulk                      5\n",
       "Name: most_ordered_product, dtype: int64"
      ]
     },
     "execution_count": 67,
     "metadata": {},
     "output_type": "execute_result"
    }
   ],
   "source": [
    "ords_prods_all['most_ordered_product'].value_counts()"
   ]
  },
  {
   "cell_type": "code",
   "execution_count": 68,
   "id": "c03bc110",
   "metadata": {
    "ExecuteTime": {
     "end_time": "2022-11-07T12:06:58.274075Z",
     "start_time": "2022-11-07T12:06:57.133839Z"
    },
    "scrolled": false
   },
   "outputs": [
    {
     "data": {
      "text/plain": [
       "produce            9479291\n",
       "dairy eggs         5393620\n",
       "snacks             2887550\n",
       "beverages          2688123\n",
       "frozen             2234743\n",
       "pantry             1875369\n",
       "bakery             1172428\n",
       "canned goods       1068058\n",
       "deli               1051249\n",
       "dry goods pasta     866627\n",
       "household           738666\n",
       "meat seafood        708927\n",
       "breakfast           703033\n",
       "personal care       447572\n",
       "babies              423802\n",
       "international       269253\n",
       "alcohol             153696\n",
       "pets                 97716\n",
       "missing              69145\n",
       "other                36291\n",
       "bulk                 34573\n",
       "Name: department, dtype: int64"
      ]
     },
     "execution_count": 68,
     "metadata": {},
     "output_type": "execute_result"
    }
   ],
   "source": [
    "ords_prods_all['department'].value_counts()"
   ]
  },
  {
   "cell_type": "markdown",
   "id": "b864bbab",
   "metadata": {},
   "source": [
    "#### edeting df and export it "
   ]
  },
  {
   "cell_type": "code",
   "execution_count": 95,
   "id": "b2b0c917",
   "metadata": {
    "ExecuteTime": {
     "end_time": "2022-11-08T00:32:35.066951Z",
     "start_time": "2022-11-08T00:32:35.061301Z"
    }
   },
   "outputs": [
    {
     "data": {
      "text/plain": [
       "Index(['user_id', 'gender', 'state', 'age', 'date_joined', 'dependants_count',\n",
       "       'fam_status', 'income', 'order_id', 'order_number', 'order_day_of_week',\n",
       "       'order_hour_of_day', 'days_since_prior_order', 'product_id',\n",
       "       'add_to_cart_order', 'reordered', 'product_name', 'department_id',\n",
       "       'prices', 'price_range', 'busiest_day', 'busiest_days', 'busiest_hours',\n",
       "       'loyalty_flag', 'avg_price_flag', 'order_frequency_flag', 'region',\n",
       "       'max_order', 'activity_flag', 'age_profile', 'income_profile',\n",
       "       'department', 'most_ordered_product'],\n",
       "      dtype='object')"
      ]
     },
     "execution_count": 95,
     "metadata": {},
     "output_type": "execute_result"
    }
   ],
   "source": [
    "ords_prods_all.columns"
   ]
  },
  {
   "cell_type": "code",
   "execution_count": 101,
   "id": "9e80be3d",
   "metadata": {
    "ExecuteTime": {
     "end_time": "2022-11-08T00:37:13.437753Z",
     "start_time": "2022-11-08T00:36:48.730651Z"
    }
   },
   "outputs": [],
   "source": [
    "# drop two columns that are not of interest\n",
    "ords_prods_all = ords_prods_all.drop(columns= ['department_id', 'product_id'])"
   ]
  },
  {
   "cell_type": "code",
   "execution_count": 102,
   "id": "281749dc",
   "metadata": {
    "ExecuteTime": {
     "end_time": "2022-11-08T00:37:13.471894Z",
     "start_time": "2022-11-08T00:37:13.449571Z"
    }
   },
   "outputs": [
    {
     "data": {
      "text/plain": [
       "Index(['user_id', 'gender', 'state', 'age', 'date_joined', 'dependants_count',\n",
       "       'fam_status', 'income', 'order_id', 'order_number', 'order_day_of_week',\n",
       "       'order_hour_of_day', 'days_since_prior_order', 'add_to_cart_order',\n",
       "       'reordered', 'product_name', 'prices', 'price_range', 'busiest_day',\n",
       "       'busiest_days', 'busiest_hours', 'loyalty_flag', 'avg_price_flag',\n",
       "       'order_frequency_flag', 'region', 'max_order', 'activity_flag',\n",
       "       'age_profile', 'income_profile', 'department', 'most_ordered_product'],\n",
       "      dtype='object')"
      ]
     },
     "execution_count": 102,
     "metadata": {},
     "output_type": "execute_result"
    }
   ],
   "source": [
    "ords_prods_all.columns"
   ]
  },
  {
   "cell_type": "code",
   "execution_count": 104,
   "id": "95180e72",
   "metadata": {
    "ExecuteTime": {
     "end_time": "2022-11-08T00:38:34.634263Z",
     "start_time": "2022-11-08T00:37:45.173808Z"
    }
   },
   "outputs": [],
   "source": [
    "# export new df\n",
    "ords_prods_all.to_pickle(os.path.join(path, '02 Data','Prepared Data', 'ords_prods_all_final.pkl'))"
   ]
  },
  {
   "cell_type": "markdown",
   "id": "8fc9f209",
   "metadata": {},
   "source": [
    "### 07 Aggregate the max, mean, and min variables on a customer-profile level for usage frequency and expenditure."
   ]
  },
  {
   "cell_type": "code",
   "execution_count": 103,
   "id": "fdaa36c4",
   "metadata": {
    "ExecuteTime": {
     "end_time": "2022-11-08T00:37:13.482414Z",
     "start_time": "2022-11-08T00:37:13.474408Z"
    }
   },
   "outputs": [
    {
     "data": {
      "text/plain": [
       "Index(['user_id', 'gender', 'state', 'age', 'date_joined', 'dependants_count',\n",
       "       'fam_status', 'income', 'order_id', 'order_number', 'order_day_of_week',\n",
       "       'order_hour_of_day', 'days_since_prior_order', 'add_to_cart_order',\n",
       "       'reordered', 'product_name', 'prices', 'price_range', 'busiest_day',\n",
       "       'busiest_days', 'busiest_hours', 'loyalty_flag', 'avg_price_flag',\n",
       "       'order_frequency_flag', 'region', 'max_order', 'activity_flag',\n",
       "       'age_profile', 'income_profile', 'department', 'most_ordered_product'],\n",
       "      dtype='object')"
      ]
     },
     "execution_count": 103,
     "metadata": {},
     "output_type": "execute_result"
    }
   ],
   "source": [
    "ords_prods_all.columns"
   ]
  },
  {
   "cell_type": "code",
   "execution_count": 73,
   "id": "b32879b4",
   "metadata": {
    "ExecuteTime": {
     "end_time": "2022-11-07T12:13:32.243449Z",
     "start_time": "2022-11-07T12:13:29.194474Z"
    }
   },
   "outputs": [
    {
     "data": {
      "text/html": [
       "<div>\n",
       "<style scoped>\n",
       "    .dataframe tbody tr th:only-of-type {\n",
       "        vertical-align: middle;\n",
       "    }\n",
       "\n",
       "    .dataframe tbody tr th {\n",
       "        vertical-align: top;\n",
       "    }\n",
       "\n",
       "    .dataframe thead tr th {\n",
       "        text-align: left;\n",
       "    }\n",
       "\n",
       "    .dataframe thead tr:last-of-type th {\n",
       "        text-align: right;\n",
       "    }\n",
       "</style>\n",
       "<table border=\"1\" class=\"dataframe\">\n",
       "  <thead>\n",
       "    <tr>\n",
       "      <th></th>\n",
       "      <th colspan=\"3\" halign=\"left\">max_order</th>\n",
       "      <th colspan=\"3\" halign=\"left\">prices</th>\n",
       "    </tr>\n",
       "    <tr>\n",
       "      <th></th>\n",
       "      <th>mean</th>\n",
       "      <th>min</th>\n",
       "      <th>max</th>\n",
       "      <th>mean</th>\n",
       "      <th>min</th>\n",
       "      <th>max</th>\n",
       "    </tr>\n",
       "    <tr>\n",
       "      <th>age_profile</th>\n",
       "      <th></th>\n",
       "      <th></th>\n",
       "      <th></th>\n",
       "      <th></th>\n",
       "      <th></th>\n",
       "      <th></th>\n",
       "    </tr>\n",
       "  </thead>\n",
       "  <tbody>\n",
       "    <tr>\n",
       "      <th>adult</th>\n",
       "      <td>33.155974</td>\n",
       "      <td>1</td>\n",
       "      <td>99</td>\n",
       "      <td>7.792692</td>\n",
       "      <td>1.0</td>\n",
       "      <td>25.0</td>\n",
       "    </tr>\n",
       "    <tr>\n",
       "      <th>pensioner</th>\n",
       "      <td>32.987565</td>\n",
       "      <td>2</td>\n",
       "      <td>99</td>\n",
       "      <td>7.794295</td>\n",
       "      <td>1.0</td>\n",
       "      <td>25.0</td>\n",
       "    </tr>\n",
       "    <tr>\n",
       "      <th>young adult</th>\n",
       "      <td>32.855185</td>\n",
       "      <td>3</td>\n",
       "      <td>99</td>\n",
       "      <td>7.782389</td>\n",
       "      <td>1.0</td>\n",
       "      <td>25.0</td>\n",
       "    </tr>\n",
       "  </tbody>\n",
       "</table>\n",
       "</div>"
      ],
      "text/plain": [
       "             max_order            prices           \n",
       "                  mean min max      mean  min   max\n",
       "age_profile                                        \n",
       "adult        33.155974   1  99  7.792692  1.0  25.0\n",
       "pensioner    32.987565   2  99  7.794295  1.0  25.0\n",
       "young adult  32.855185   3  99  7.782389  1.0  25.0"
      ]
     },
     "execution_count": 73,
     "metadata": {},
     "output_type": "execute_result"
    }
   ],
   "source": [
    "# age aggregation\n",
    "ords_prods_all.groupby(['age_profile']).agg({'max_order':['mean', 'min', 'max'], 'prices':['mean', 'min', 'max']})"
   ]
  },
  {
   "cell_type": "code",
   "execution_count": 74,
   "id": "182b7445",
   "metadata": {
    "ExecuteTime": {
     "end_time": "2022-11-07T12:13:35.282576Z",
     "start_time": "2022-11-07T12:13:32.246628Z"
    }
   },
   "outputs": [
    {
     "data": {
      "text/html": [
       "<div>\n",
       "<style scoped>\n",
       "    .dataframe tbody tr th:only-of-type {\n",
       "        vertical-align: middle;\n",
       "    }\n",
       "\n",
       "    .dataframe tbody tr th {\n",
       "        vertical-align: top;\n",
       "    }\n",
       "\n",
       "    .dataframe thead tr th {\n",
       "        text-align: left;\n",
       "    }\n",
       "\n",
       "    .dataframe thead tr:last-of-type th {\n",
       "        text-align: right;\n",
       "    }\n",
       "</style>\n",
       "<table border=\"1\" class=\"dataframe\">\n",
       "  <thead>\n",
       "    <tr>\n",
       "      <th></th>\n",
       "      <th colspan=\"3\" halign=\"left\">max_order</th>\n",
       "      <th colspan=\"3\" halign=\"left\">prices</th>\n",
       "    </tr>\n",
       "    <tr>\n",
       "      <th></th>\n",
       "      <th>mean</th>\n",
       "      <th>min</th>\n",
       "      <th>max</th>\n",
       "      <th>mean</th>\n",
       "      <th>min</th>\n",
       "      <th>max</th>\n",
       "    </tr>\n",
       "    <tr>\n",
       "      <th>income_profile</th>\n",
       "      <th></th>\n",
       "      <th></th>\n",
       "      <th></th>\n",
       "      <th></th>\n",
       "      <th></th>\n",
       "      <th></th>\n",
       "    </tr>\n",
       "  </thead>\n",
       "  <tbody>\n",
       "    <tr>\n",
       "      <th>high income</th>\n",
       "      <td>33.305913</td>\n",
       "      <td>1</td>\n",
       "      <td>99</td>\n",
       "      <td>7.957172</td>\n",
       "      <td>1.0</td>\n",
       "      <td>25.0</td>\n",
       "    </tr>\n",
       "    <tr>\n",
       "      <th>low income</th>\n",
       "      <td>32.223505</td>\n",
       "      <td>2</td>\n",
       "      <td>99</td>\n",
       "      <td>7.349622</td>\n",
       "      <td>1.0</td>\n",
       "      <td>25.0</td>\n",
       "    </tr>\n",
       "    <tr>\n",
       "      <th>medium income</th>\n",
       "      <td>33.409615</td>\n",
       "      <td>2</td>\n",
       "      <td>99</td>\n",
       "      <td>7.962668</td>\n",
       "      <td>1.0</td>\n",
       "      <td>25.0</td>\n",
       "    </tr>\n",
       "  </tbody>\n",
       "</table>\n",
       "</div>"
      ],
      "text/plain": [
       "                max_order            prices           \n",
       "                     mean min max      mean  min   max\n",
       "income_profile                                        \n",
       "high income     33.305913   1  99  7.957172  1.0  25.0\n",
       "low income      32.223505   2  99  7.349622  1.0  25.0\n",
       "medium income   33.409615   2  99  7.962668  1.0  25.0"
      ]
     },
     "execution_count": 74,
     "metadata": {},
     "output_type": "execute_result"
    }
   ],
   "source": [
    "# income aggregation\n",
    "ords_prods_all.groupby(['income_profile']).agg({'max_order':['mean', 'min', 'max'], 'prices':['mean', 'min', 'max']})"
   ]
  },
  {
   "cell_type": "code",
   "execution_count": 72,
   "id": "a0c13f41",
   "metadata": {
    "ExecuteTime": {
     "end_time": "2022-11-07T12:13:29.191166Z",
     "start_time": "2022-11-07T12:13:25.370608Z"
    },
    "scrolled": true
   },
   "outputs": [
    {
     "data": {
      "text/html": [
       "<div>\n",
       "<style scoped>\n",
       "    .dataframe tbody tr th:only-of-type {\n",
       "        vertical-align: middle;\n",
       "    }\n",
       "\n",
       "    .dataframe tbody tr th {\n",
       "        vertical-align: top;\n",
       "    }\n",
       "\n",
       "    .dataframe thead tr th {\n",
       "        text-align: left;\n",
       "    }\n",
       "\n",
       "    .dataframe thead tr:last-of-type th {\n",
       "        text-align: right;\n",
       "    }\n",
       "</style>\n",
       "<table border=\"1\" class=\"dataframe\">\n",
       "  <thead>\n",
       "    <tr>\n",
       "      <th></th>\n",
       "      <th colspan=\"3\" halign=\"left\">max_order</th>\n",
       "      <th colspan=\"3\" halign=\"left\">prices</th>\n",
       "    </tr>\n",
       "    <tr>\n",
       "      <th></th>\n",
       "      <th>mean</th>\n",
       "      <th>min</th>\n",
       "      <th>max</th>\n",
       "      <th>mean</th>\n",
       "      <th>min</th>\n",
       "      <th>max</th>\n",
       "    </tr>\n",
       "    <tr>\n",
       "      <th>most_ordered_product</th>\n",
       "      <th></th>\n",
       "      <th></th>\n",
       "      <th></th>\n",
       "      <th></th>\n",
       "      <th></th>\n",
       "      <th></th>\n",
       "    </tr>\n",
       "  </thead>\n",
       "  <tbody>\n",
       "    <tr>\n",
       "      <th>alcohol</th>\n",
       "      <td>6.107392</td>\n",
       "      <td>3</td>\n",
       "      <td>17</td>\n",
       "      <td>7.993305</td>\n",
       "      <td>1.0</td>\n",
       "      <td>15.0</td>\n",
       "    </tr>\n",
       "    <tr>\n",
       "      <th>babies</th>\n",
       "      <td>7.064516</td>\n",
       "      <td>3</td>\n",
       "      <td>8</td>\n",
       "      <td>9.377419</td>\n",
       "      <td>2.0</td>\n",
       "      <td>13.8</td>\n",
       "    </tr>\n",
       "    <tr>\n",
       "      <th>bakery</th>\n",
       "      <td>41.449275</td>\n",
       "      <td>3</td>\n",
       "      <td>53</td>\n",
       "      <td>9.567391</td>\n",
       "      <td>1.0</td>\n",
       "      <td>13.7</td>\n",
       "    </tr>\n",
       "    <tr>\n",
       "      <th>beverages</th>\n",
       "      <td>11.674381</td>\n",
       "      <td>3</td>\n",
       "      <td>49</td>\n",
       "      <td>7.836751</td>\n",
       "      <td>1.0</td>\n",
       "      <td>15.0</td>\n",
       "    </tr>\n",
       "    <tr>\n",
       "      <th>breakfast</th>\n",
       "      <td>7.317391</td>\n",
       "      <td>3</td>\n",
       "      <td>12</td>\n",
       "      <td>6.332174</td>\n",
       "      <td>1.0</td>\n",
       "      <td>13.5</td>\n",
       "    </tr>\n",
       "    <tr>\n",
       "      <th>bulk</th>\n",
       "      <td>4.000000</td>\n",
       "      <td>4</td>\n",
       "      <td>4</td>\n",
       "      <td>7.780000</td>\n",
       "      <td>6.1</td>\n",
       "      <td>8.2</td>\n",
       "    </tr>\n",
       "    <tr>\n",
       "      <th>canned goods</th>\n",
       "      <td>8.107345</td>\n",
       "      <td>3</td>\n",
       "      <td>20</td>\n",
       "      <td>6.415819</td>\n",
       "      <td>1.1</td>\n",
       "      <td>15.0</td>\n",
       "    </tr>\n",
       "    <tr>\n",
       "      <th>dairy eggs</th>\n",
       "      <td>30.439607</td>\n",
       "      <td>3</td>\n",
       "      <td>99</td>\n",
       "      <td>8.259252</td>\n",
       "      <td>1.0</td>\n",
       "      <td>15.0</td>\n",
       "    </tr>\n",
       "    <tr>\n",
       "      <th>deli</th>\n",
       "      <td>8.221971</td>\n",
       "      <td>3</td>\n",
       "      <td>20</td>\n",
       "      <td>7.466025</td>\n",
       "      <td>1.0</td>\n",
       "      <td>14.9</td>\n",
       "    </tr>\n",
       "    <tr>\n",
       "      <th>dry goods pasta</th>\n",
       "      <td>14.824074</td>\n",
       "      <td>3</td>\n",
       "      <td>54</td>\n",
       "      <td>7.752037</td>\n",
       "      <td>1.1</td>\n",
       "      <td>15.0</td>\n",
       "    </tr>\n",
       "    <tr>\n",
       "      <th>frozen</th>\n",
       "      <td>8.416434</td>\n",
       "      <td>3</td>\n",
       "      <td>43</td>\n",
       "      <td>7.861789</td>\n",
       "      <td>1.0</td>\n",
       "      <td>15.0</td>\n",
       "    </tr>\n",
       "    <tr>\n",
       "      <th>household</th>\n",
       "      <td>11.270038</td>\n",
       "      <td>3</td>\n",
       "      <td>51</td>\n",
       "      <td>7.474609</td>\n",
       "      <td>1.0</td>\n",
       "      <td>15.0</td>\n",
       "    </tr>\n",
       "    <tr>\n",
       "      <th>international</th>\n",
       "      <td>13.601578</td>\n",
       "      <td>3</td>\n",
       "      <td>38</td>\n",
       "      <td>7.736785</td>\n",
       "      <td>1.0</td>\n",
       "      <td>15.0</td>\n",
       "    </tr>\n",
       "    <tr>\n",
       "      <th>meat seafood</th>\n",
       "      <td>7.278171</td>\n",
       "      <td>3</td>\n",
       "      <td>26</td>\n",
       "      <td>9.213767</td>\n",
       "      <td>1.0</td>\n",
       "      <td>25.0</td>\n",
       "    </tr>\n",
       "    <tr>\n",
       "      <th>missing</th>\n",
       "      <td>25.190427</td>\n",
       "      <td>3</td>\n",
       "      <td>65</td>\n",
       "      <td>7.983839</td>\n",
       "      <td>1.0</td>\n",
       "      <td>24.9</td>\n",
       "    </tr>\n",
       "    <tr>\n",
       "      <th>other</th>\n",
       "      <td>12.263992</td>\n",
       "      <td>3</td>\n",
       "      <td>31</td>\n",
       "      <td>8.237487</td>\n",
       "      <td>1.0</td>\n",
       "      <td>24.3</td>\n",
       "    </tr>\n",
       "    <tr>\n",
       "      <th>pantry</th>\n",
       "      <td>15.782151</td>\n",
       "      <td>3</td>\n",
       "      <td>93</td>\n",
       "      <td>7.950328</td>\n",
       "      <td>1.0</td>\n",
       "      <td>25.0</td>\n",
       "    </tr>\n",
       "    <tr>\n",
       "      <th>personal care</th>\n",
       "      <td>15.714191</td>\n",
       "      <td>3</td>\n",
       "      <td>99</td>\n",
       "      <td>7.897844</td>\n",
       "      <td>1.0</td>\n",
       "      <td>25.0</td>\n",
       "    </tr>\n",
       "    <tr>\n",
       "      <th>pets</th>\n",
       "      <td>9.712613</td>\n",
       "      <td>3</td>\n",
       "      <td>47</td>\n",
       "      <td>7.992531</td>\n",
       "      <td>1.0</td>\n",
       "      <td>25.0</td>\n",
       "    </tr>\n",
       "    <tr>\n",
       "      <th>produce</th>\n",
       "      <td>15.532229</td>\n",
       "      <td>1</td>\n",
       "      <td>99</td>\n",
       "      <td>8.107202</td>\n",
       "      <td>1.0</td>\n",
       "      <td>25.0</td>\n",
       "    </tr>\n",
       "    <tr>\n",
       "      <th>snacks</th>\n",
       "      <td>33.854276</td>\n",
       "      <td>3</td>\n",
       "      <td>99</td>\n",
       "      <td>7.777112</td>\n",
       "      <td>1.0</td>\n",
       "      <td>25.0</td>\n",
       "    </tr>\n",
       "  </tbody>\n",
       "</table>\n",
       "</div>"
      ],
      "text/plain": [
       "                      max_order            prices           \n",
       "                           mean min max      mean  min   max\n",
       "most_ordered_product                                        \n",
       "alcohol                6.107392   3  17  7.993305  1.0  15.0\n",
       "babies                 7.064516   3   8  9.377419  2.0  13.8\n",
       "bakery                41.449275   3  53  9.567391  1.0  13.7\n",
       "beverages             11.674381   3  49  7.836751  1.0  15.0\n",
       "breakfast              7.317391   3  12  6.332174  1.0  13.5\n",
       "bulk                   4.000000   4   4  7.780000  6.1   8.2\n",
       "canned goods           8.107345   3  20  6.415819  1.1  15.0\n",
       "dairy eggs            30.439607   3  99  8.259252  1.0  15.0\n",
       "deli                   8.221971   3  20  7.466025  1.0  14.9\n",
       "dry goods pasta       14.824074   3  54  7.752037  1.1  15.0\n",
       "frozen                 8.416434   3  43  7.861789  1.0  15.0\n",
       "household             11.270038   3  51  7.474609  1.0  15.0\n",
       "international         13.601578   3  38  7.736785  1.0  15.0\n",
       "meat seafood           7.278171   3  26  9.213767  1.0  25.0\n",
       "missing               25.190427   3  65  7.983839  1.0  24.9\n",
       "other                 12.263992   3  31  8.237487  1.0  24.3\n",
       "pantry                15.782151   3  93  7.950328  1.0  25.0\n",
       "personal care         15.714191   3  99  7.897844  1.0  25.0\n",
       "pets                   9.712613   3  47  7.992531  1.0  25.0\n",
       "produce               15.532229   1  99  8.107202  1.0  25.0\n",
       "snacks                33.854276   3  99  7.777112  1.0  25.0"
      ]
     },
     "execution_count": 72,
     "metadata": {},
     "output_type": "execute_result"
    }
   ],
   "source": [
    "# income aggregation\n",
    "ords_prods_all.groupby(['most_ordered_product']).agg({'max_order':['mean', 'min', 'max'], 'prices':['mean', 'min', 'max']})"
   ]
  },
  {
   "cell_type": "markdown",
   "id": "c48880a4",
   "metadata": {},
   "source": [
    "### 08/06 Visualisations \n",
    "- Q1 histogram for order count each hour a day \n",
    "- Q1 bar chart for order count each day of the week \n",
    "- Q2 stacked bar chart containing products at different times\n",
    "- Q3 price range grouping bar chart \n",
    "- Q4 department sales bar chart\n",
    "- Q5 order number bar chart\n",
    "- Q6 loyalty flag bar chart\n",
    "- Q7 Region bar chart \n",
    "- Q8 crosstag age-family oder count chart"
   ]
  },
  {
   "cell_type": "markdown",
   "id": "43143523",
   "metadata": {},
   "source": [
    "#### Q1 \n",
    "histogram for order count each hour a day  \n",
    "bar chart for order count each day of the week"
   ]
  },
  {
   "cell_type": "code",
   "execution_count": 162,
   "id": "4535e815",
   "metadata": {
    "ExecuteTime": {
     "end_time": "2022-11-08T10:57:35.502627Z",
     "start_time": "2022-11-08T10:57:35.362344Z"
    }
   },
   "outputs": [
    {
     "data": {
      "text/plain": [
       "10    2761333\n",
       "11    2735694\n",
       "14    2688728\n",
       "15    2661718\n",
       "13    2660570\n",
       "12    2618104\n",
       "16    2534744\n",
       "9     2453842\n",
       "17    2087273\n",
       "8     1717863\n",
       "18    1636226\n",
       "19    1258076\n",
       "20     976000\n",
       "7      890923\n",
       "21     795528\n",
       "22     634159\n",
       "23     402272\n",
       "6      290450\n",
       "0      218742\n",
       "1      115683\n",
       "5       87944\n",
       "2       69360\n",
       "4       53232\n",
       "3       51268\n",
       "Name: order_hour_of_day, dtype: int64"
      ]
     },
     "execution_count": 162,
     "metadata": {},
     "output_type": "execute_result"
    }
   ],
   "source": [
    "ords_prods_all['order_hour_of_day'].value_counts() # hour 10 has highest count"
   ]
  },
  {
   "cell_type": "code",
   "execution_count": 167,
   "id": "a90b7ddf",
   "metadata": {
    "ExecuteTime": {
     "end_time": "2022-11-08T11:04:08.386649Z",
     "start_time": "2022-11-08T11:04:08.257887Z"
    }
   },
   "outputs": [],
   "source": [
    "new_df = ords_prods_all['order_hour_of_day'].value_counts().rename_axis('Hour_of_day').reset_index(name='Counts')"
   ]
  },
  {
   "cell_type": "code",
   "execution_count": 168,
   "id": "5efacf5c",
   "metadata": {
    "ExecuteTime": {
     "end_time": "2022-11-08T11:04:09.607409Z",
     "start_time": "2022-11-08T11:04:09.497307Z"
    },
    "scrolled": false
   },
   "outputs": [
    {
     "data": {
      "image/png": "[encoded data removed]",
      "text/plain": [
       "<Figure size 200x200 with 1 Axes>"
      ]
     },
     "metadata": {},
     "output_type": "display_data"
    }
   ],
   "source": [
    "Q1_line_hour_of_day = sns.lineplot(data = new_df, x = 'Hour_of_day',y = 'Counts')"
   ]
  },
  {
   "cell_type": "code",
   "execution_count": 268,
   "id": "981a87ee",
   "metadata": {
    "ExecuteTime": {
     "end_time": "2022-11-08T12:13:44.854722Z",
     "start_time": "2022-11-08T12:13:44.767051Z"
    }
   },
   "outputs": [],
   "source": [
    "# export line chart\n",
    "Q1_line_hour_of_day.figure.savefig(os.path.join(path, '04 Analysis', 'answer_visualizations', 'Q1_line_hour_of_day.png'), bbox_inches='tight', dpi=200)"
   ]
  },
  {
   "cell_type": "code",
   "execution_count": 186,
   "id": "483f58ef",
   "metadata": {
    "ExecuteTime": {
     "end_time": "2022-11-08T11:15:07.850082Z",
     "start_time": "2022-11-08T11:15:07.624399Z"
    }
   },
   "outputs": [
    {
     "data": {
      "image/png": "[encoded data removed]",
      "text/plain": [
       "<Figure size 200x200 with 1 Axes>"
      ]
     },
     "metadata": {},
     "output_type": "display_data"
    }
   ],
   "source": [
    "day_of_week_vc = ords_prods_all['order_day_of_week'].value_counts().rename({0:'Saturday', 1:'Sunday', 2:'Monday', 3:'Tuesday', 4:'Wednesday', 5:'Thursday', 6:'Friday'}).reindex(['Saturday', 'Sunday', 'Monday','Tuesday', 'Wednesday', 'Thursday', 'Friday'])\n",
    "Q1_bar_day_of_week = day_of_week_vc.plot.bar()"
   ]
  },
  {
   "cell_type": "code",
   "execution_count": 267,
   "id": "94bb5e35",
   "metadata": {
    "ExecuteTime": {
     "end_time": "2022-11-08T12:13:34.198458Z",
     "start_time": "2022-11-08T12:13:34.111163Z"
    }
   },
   "outputs": [],
   "source": [
    "# export bar chart\n",
    "Q1_bar_day_of_week.figure.savefig(os.path.join(path, '04 Analysis', 'answer_visualizations', 'Q1_bar_day_of_week.png'), bbox_inches='tight', dpi=200)"
   ]
  },
  {
   "cell_type": "markdown",
   "id": "12d5d01d",
   "metadata": {},
   "source": [
    "#### Q2\n",
    "stacked bar chart containing products at different time"
   ]
  },
  {
   "cell_type": "code",
   "execution_count": null,
   "id": "4552a8e6",
   "metadata": {
    "ExecuteTime": {
     "end_time": "2022-11-08T12:58:06.906590Z",
     "start_time": "2022-11-08T12:58:06.468226Z"
    },
    "scrolled": true
   },
   "outputs": [],
   "source": [
    "Q2_line_hourOfDay_prices = sns.lineplot(data = ords_prods_all, x = 'order_hour_of_day',y = 'prices')"
   ]
  },
  {
   "cell_type": "code",
   "execution_count": 270,
   "id": "b148959c",
   "metadata": {
    "ExecuteTime": {
     "end_time": "2022-11-08T12:21:40.188319Z",
     "start_time": "2022-11-08T12:21:39.254359Z"
    }
   },
   "outputs": [],
   "source": [
    "# export bar chart\n",
    "Q2_line_hourOfDay_prices.figure.savefig(os.path.join(path, '04 Analysis', 'answer_visualizations', 'Q2_line_hourOfDay_prices.png'), bbox_inches='tight', dpi=200)"
   ]
  },
  {
   "cell_type": "markdown",
   "id": "b933122a",
   "metadata": {},
   "source": [
    "#### Q3 \n",
    "price range grouping bar chart"
   ]
  },
  {
   "cell_type": "code",
   "execution_count": 201,
   "id": "3696d555",
   "metadata": {
    "ExecuteTime": {
     "end_time": "2022-11-08T11:32:52.472289Z",
     "start_time": "2022-11-08T11:32:50.822260Z"
    }
   },
   "outputs": [],
   "source": [
    "# create df\n",
    "price_range_vc = ords_prods_all['price_range'].value_counts()"
   ]
  },
  {
   "cell_type": "code",
   "execution_count": 202,
   "id": "327fb8ea",
   "metadata": {
    "ExecuteTime": {
     "end_time": "2022-11-08T11:33:00.405318Z",
     "start_time": "2022-11-08T11:33:00.400070Z"
    }
   },
   "outputs": [
    {
     "data": {
      "text/plain": [
       "Mid-range product     21860860\n",
       "Low-range product     10126321\n",
       "High-range product      412551\n",
       "Name: price_range, dtype: int64"
      ]
     },
     "execution_count": 202,
     "metadata": {},
     "output_type": "execute_result"
    }
   ],
   "source": [
    "price_range_vc"
   ]
  },
  {
   "cell_type": "code",
   "execution_count": 211,
   "id": "73635f36",
   "metadata": {
    "ExecuteTime": {
     "end_time": "2022-11-08T11:40:46.106782Z",
     "start_time": "2022-11-08T11:40:45.950889Z"
    },
    "scrolled": true
   },
   "outputs": [
    {
     "data": {
      "text/plain": [
       "Text(0.5, 0, 'Price range')"
      ]
     },
     "execution_count": 211,
     "metadata": {},
     "output_type": "execute_result"
    },
    {
     "data": {
      "image/png": "[encoded data removed]",
      "text/plain": [
       "<Figure size 1500x1000 with 1 Axes>"
      ]
     },
     "metadata": {},
     "output_type": "display_data"
    }
   ],
   "source": [
    "Q3_bar_price_range = price_range_vc.plot(kind='bar', colormap='tab10', figsize=(15, 10), fontsize=14)\n",
    "plt.title(\"Order count for differnt price ranges\", fontsize = 20)\n",
    "plt.xlabel(\"Price range\", fontsize = 20)"
   ]
  },
  {
   "cell_type": "code",
   "execution_count": 265,
   "id": "ecf8a5e9",
   "metadata": {
    "ExecuteTime": {
     "end_time": "2022-11-08T12:13:21.283174Z",
     "start_time": "2022-11-08T12:13:20.967236Z"
    }
   },
   "outputs": [],
   "source": [
    "# export bar chart\n",
    "Q3_bar_price_range.figure.savefig(os.path.join(path, '04 Analysis', 'answer_visualizations', 'Q3_bar_price_range.png'), bbox_inches='tight', dpi=200)"
   ]
  },
  {
   "cell_type": "markdown",
   "id": "26149212",
   "metadata": {},
   "source": [
    "#### Q4 \n",
    "department sales bar chart"
   ]
  },
  {
   "cell_type": "code",
   "execution_count": 214,
   "id": "672a2b8b",
   "metadata": {
    "ExecuteTime": {
     "end_time": "2022-11-08T11:42:52.506056Z",
     "start_time": "2022-11-08T11:42:51.345385Z"
    }
   },
   "outputs": [],
   "source": [
    "department_vc = ords_prods_all['department'].value_counts()"
   ]
  },
  {
   "cell_type": "code",
   "execution_count": 215,
   "id": "0418f2e6",
   "metadata": {
    "ExecuteTime": {
     "end_time": "2022-11-08T11:42:58.362213Z",
     "start_time": "2022-11-08T11:42:58.356373Z"
    }
   },
   "outputs": [
    {
     "data": {
      "text/plain": [
       "produce            9479291\n",
       "dairy eggs         5393620\n",
       "snacks             2887550\n",
       "beverages          2688123\n",
       "frozen             2234743\n",
       "pantry             1875369\n",
       "bakery             1172428\n",
       "canned goods       1068058\n",
       "deli               1051249\n",
       "dry goods pasta     866627\n",
       "household           738666\n",
       "meat seafood        708927\n",
       "breakfast           703033\n",
       "personal care       447572\n",
       "babies              423802\n",
       "international       269253\n",
       "alcohol             153696\n",
       "pets                 97716\n",
       "missing              69145\n",
       "other                36291\n",
       "bulk                 34573\n",
       "Name: department, dtype: int64"
      ]
     },
     "execution_count": 215,
     "metadata": {},
     "output_type": "execute_result"
    }
   ],
   "source": [
    "department_vc"
   ]
  },
  {
   "cell_type": "code",
   "execution_count": 263,
   "id": "33f04e33",
   "metadata": {
    "ExecuteTime": {
     "end_time": "2022-11-08T12:13:06.514375Z",
     "start_time": "2022-11-08T12:13:06.272148Z"
    }
   },
   "outputs": [
    {
     "data": {
      "text/plain": [
       "Text(0.5, 0, 'Department')"
      ]
     },
     "execution_count": 263,
     "metadata": {},
     "output_type": "execute_result"
    },
    {
     "data": {
      "image/png": "[encoded data removed]",
      "text/plain": [
       "<Figure size 1500x1000 with 1 Axes>"
      ]
     },
     "metadata": {},
     "output_type": "display_data"
    }
   ],
   "source": [
    "Q4_bar_departments = department_vc.plot(kind='bar', colormap='tab10', figsize=(15, 10),fontsize=14)\n",
    "plt.title(\"Order count for differnt departments\", fontsize = 20)\n",
    "plt.xlabel(\"Department\", fontsize = 20)"
   ]
  },
  {
   "cell_type": "code",
   "execution_count": 264,
   "id": "74fbeb6a",
   "metadata": {
    "ExecuteTime": {
     "end_time": "2022-11-08T12:13:09.316274Z",
     "start_time": "2022-11-08T12:13:08.936612Z"
    }
   },
   "outputs": [],
   "source": [
    "# export bar chart\n",
    "Q4_bar_departments.figure.savefig(os.path.join(path, '04 Analysis', 'answer_visualizations', 'Q4_bar_departments.png'), bbox_inches='tight', dpi=200)"
   ]
  },
  {
   "cell_type": "markdown",
   "id": "1ccf85b0",
   "metadata": {},
   "source": [
    "#### Q5 \n",
    "order number bar chart"
   ]
  },
  {
   "cell_type": "code",
   "execution_count": 218,
   "id": "a705507e",
   "metadata": {
    "ExecuteTime": {
     "end_time": "2022-11-08T11:44:39.261563Z",
     "start_time": "2022-11-08T11:44:38.566440Z"
    }
   },
   "outputs": [],
   "source": [
    "order_number_vc = ords_prods_all['order_number'].value_counts()"
   ]
  },
  {
   "cell_type": "code",
   "execution_count": 219,
   "id": "0794ecfa",
   "metadata": {
    "ExecuteTime": {
     "end_time": "2022-11-08T11:44:42.159245Z",
     "start_time": "2022-11-08T11:44:42.153182Z"
    }
   },
   "outputs": [
    {
     "data": {
      "text/plain": [
       "1     2075745\n",
       "3     2048476\n",
       "2     2046061\n",
       "4     1818284\n",
       "5     1626608\n",
       "       ...   \n",
       "95      14514\n",
       "96      13733\n",
       "97      13353\n",
       "98      12849\n",
       "99      12419\n",
       "Name: order_number, Length: 99, dtype: int64"
      ]
     },
     "execution_count": 219,
     "metadata": {},
     "output_type": "execute_result"
    }
   ],
   "source": [
    "order_number_vc"
   ]
  },
  {
   "cell_type": "code",
   "execution_count": 224,
   "id": "7d89313d",
   "metadata": {
    "ExecuteTime": {
     "end_time": "2022-11-08T11:49:11.479097Z",
     "start_time": "2022-11-08T11:49:10.850087Z"
    },
    "scrolled": true
   },
   "outputs": [
    {
     "data": {
      "text/plain": [
       "Text(0, 0.5, 'Order count')"
      ]
     },
     "execution_count": 224,
     "metadata": {},
     "output_type": "execute_result"
    },
    {
     "data": {
      "image/png": "[encoded data removed]",
      "text/plain": [
       "<Figure size 1500x1000 with 1 Axes>"
      ]
     },
     "metadata": {},
     "output_type": "display_data"
    }
   ],
   "source": [
    "Q5_line_order_number = order_number_vc.plot(kind='line', colormap='tab10', figsize=(15, 10), fontsize=14)\n",
    "plt.title(\"Order count for reorders\", fontsize = 23)\n",
    "plt.xlabel(\"Customer ordered for x times\", fontsize = 20)\n",
    "plt.ylabel(\"Order count\", fontsize = 20)"
   ]
  },
  {
   "cell_type": "code",
   "execution_count": 261,
   "id": "a5488b61",
   "metadata": {
    "ExecuteTime": {
     "end_time": "2022-11-08T12:12:41.811343Z",
     "start_time": "2022-11-08T12:12:41.390509Z"
    }
   },
   "outputs": [],
   "source": [
    "# export bar chart\n",
    "Q5_line_order_number.figure.savefig(os.path.join(path, '04 Analysis', 'answer_visualizations', 'Q5_line_order_number.png'), bbox_inches='tight', dpi=200)"
   ]
  },
  {
   "cell_type": "markdown",
   "id": "9de126fa",
   "metadata": {},
   "source": [
    "#### Q6 \n",
    "loyalty flag bar chart"
   ]
  },
  {
   "cell_type": "code",
   "execution_count": 228,
   "id": "68c56cb4",
   "metadata": {
    "ExecuteTime": {
     "end_time": "2022-11-08T11:50:23.490846Z",
     "start_time": "2022-11-08T11:50:21.869349Z"
    }
   },
   "outputs": [],
   "source": [
    "loyalty_flag_vc = ords_prods_all['loyalty_flag'].value_counts()"
   ]
  },
  {
   "cell_type": "code",
   "execution_count": 229,
   "id": "8bcda135",
   "metadata": {
    "ExecuteTime": {
     "end_time": "2022-11-08T11:50:29.679439Z",
     "start_time": "2022-11-08T11:50:29.674081Z"
    }
   },
   "outputs": [
    {
     "data": {
      "text/plain": [
       "Regular customer    15874128\n",
       "Loyal customer      10282763\n",
       "New customer         6242841\n",
       "Name: loyalty_flag, dtype: int64"
      ]
     },
     "execution_count": 229,
     "metadata": {},
     "output_type": "execute_result"
    }
   ],
   "source": [
    "loyalty_flag_vc"
   ]
  },
  {
   "cell_type": "code",
   "execution_count": 230,
   "id": "ee75c590",
   "metadata": {
    "ExecuteTime": {
     "end_time": "2022-11-08T11:51:50.011062Z",
     "start_time": "2022-11-08T11:51:49.831557Z"
    },
    "scrolled": true
   },
   "outputs": [
    {
     "data": {
      "text/plain": [
       "Text(0, 0.5, 'Order count')"
      ]
     },
     "execution_count": 230,
     "metadata": {},
     "output_type": "execute_result"
    },
    {
     "data": {
      "image/png": "[encoded data removed]",
      "text/plain": [
       "<Figure size 1500x1000 with 1 Axes>"
      ]
     },
     "metadata": {},
     "output_type": "display_data"
    }
   ],
   "source": [
    "Q6_bar_loyalty_flag = loyalty_flag_vc.plot(kind='bar', colormap='tab10', figsize=(15, 10), fontsize=14)\n",
    "plt.title(\"Order count for different loyalty types amoung customers\", fontsize = 23)\n",
    "plt.xlabel(\"loyalty type\", fontsize = 20)\n",
    "plt.ylabel(\"Order count\", fontsize = 20)"
   ]
  },
  {
   "cell_type": "code",
   "execution_count": 259,
   "id": "e84315f8",
   "metadata": {
    "ExecuteTime": {
     "end_time": "2022-11-08T12:12:32.426055Z",
     "start_time": "2022-11-08T12:12:32.061885Z"
    }
   },
   "outputs": [],
   "source": [
    "# export bar chart\n",
    "Q6_bar_loyalty_flag.figure.savefig(os.path.join(path, '04 Analysis', 'answer_visualizations', 'Q6_bar_loyalty_flag.png'), bbox_inches='tight', dpi=200)"
   ]
  },
  {
   "cell_type": "markdown",
   "id": "e921b9ef",
   "metadata": {},
   "source": [
    "#### Q7 \n",
    "region bar chart"
   ]
  },
  {
   "cell_type": "code",
   "execution_count": 232,
   "id": "5f126665",
   "metadata": {
    "ExecuteTime": {
     "end_time": "2022-11-08T11:52:52.821843Z",
     "start_time": "2022-11-08T11:52:51.251215Z"
    }
   },
   "outputs": [],
   "source": [
    "region_vc = ords_prods_all['region'].value_counts()"
   ]
  },
  {
   "cell_type": "code",
   "execution_count": 233,
   "id": "cd70b418",
   "metadata": {
    "ExecuteTime": {
     "end_time": "2022-11-08T11:52:53.262631Z",
     "start_time": "2022-11-08T11:52:53.257248Z"
    }
   },
   "outputs": [
    {
     "data": {
      "text/plain": [
       "Region 3    10790096\n",
       "Region 4     8291679\n",
       "Region 2     7596065\n",
       "Region 1     5721892\n",
       "Name: region, dtype: int64"
      ]
     },
     "execution_count": 233,
     "metadata": {},
     "output_type": "execute_result"
    }
   ],
   "source": [
    "region_vc"
   ]
  },
  {
   "cell_type": "code",
   "execution_count": 235,
   "id": "d7998e88",
   "metadata": {
    "ExecuteTime": {
     "end_time": "2022-11-08T11:53:57.188306Z",
     "start_time": "2022-11-08T11:53:57.029990Z"
    }
   },
   "outputs": [
    {
     "data": {
      "text/plain": [
       "Text(0, 0.5, 'Order count')"
      ]
     },
     "execution_count": 235,
     "metadata": {},
     "output_type": "execute_result"
    },
    {
     "data": {
      "image/png": "[encoded data removed]",
      "text/plain": [
       "<Figure size 1500x1000 with 1 Axes>"
      ]
     },
     "metadata": {},
     "output_type": "display_data"
    }
   ],
   "source": [
    "Q7_bar_region = region_vc.plot(kind='bar', colormap='tab10', figsize=(15, 10), fontsize=14)\n",
    "plt.title(\"Order count for different regions\", fontsize = 23)\n",
    "plt.ylabel(\"Order count\", fontsize = 20)"
   ]
  },
  {
   "cell_type": "code",
   "execution_count": 258,
   "id": "5293aed6",
   "metadata": {
    "ExecuteTime": {
     "end_time": "2022-11-08T12:12:23.165532Z",
     "start_time": "2022-11-08T12:12:22.864880Z"
    }
   },
   "outputs": [],
   "source": [
    "# export bar chart\n",
    "Q7_bar_region.figure.savefig(os.path.join(path, '04 Analysis', 'answer_visualizations', 'Q7_bar_region.png'), bbox_inches='tight', dpi=200)"
   ]
  },
  {
   "cell_type": "markdown",
   "id": "fa475356",
   "metadata": {},
   "source": [
    "#### Q8 \n",
    "crosstag age-family oder count chart"
   ]
  },
  {
   "cell_type": "code",
   "execution_count": 246,
   "id": "25bc9be0",
   "metadata": {
    "ExecuteTime": {
     "end_time": "2022-11-08T12:01:28.821718Z",
     "start_time": "2022-11-08T12:01:22.748239Z"
    }
   },
   "outputs": [],
   "source": [
    "# create df\n",
    "age_x_famStatus = pd.crosstab(ords_prods_all['fam_status'], ords_prods_all['age_profile'], dropna = False)"
   ]
  },
  {
   "cell_type": "code",
   "execution_count": 247,
   "id": "e4b3cc03",
   "metadata": {
    "ExecuteTime": {
     "end_time": "2022-11-08T12:01:28.832043Z",
     "start_time": "2022-11-08T12:01:28.824161Z"
    },
    "scrolled": true
   },
   "outputs": [
    {
     "data": {
      "text/html": [
       "<div>\n",
       "<style scoped>\n",
       "    .dataframe tbody tr th:only-of-type {\n",
       "        vertical-align: middle;\n",
       "    }\n",
       "\n",
       "    .dataframe tbody tr th {\n",
       "        vertical-align: top;\n",
       "    }\n",
       "\n",
       "    .dataframe thead th {\n",
       "        text-align: right;\n",
       "    }\n",
       "</style>\n",
       "<table border=\"1\" class=\"dataframe\">\n",
       "  <thead>\n",
       "    <tr style=\"text-align: right;\">\n",
       "      <th>age_profile</th>\n",
       "      <th>adult</th>\n",
       "      <th>pensioner</th>\n",
       "      <th>young adult</th>\n",
       "    </tr>\n",
       "    <tr>\n",
       "      <th>fam_status</th>\n",
       "      <th></th>\n",
       "      <th></th>\n",
       "      <th></th>\n",
       "    </tr>\n",
       "  </thead>\n",
       "  <tbody>\n",
       "    <tr>\n",
       "      <th>divorced/widowed</th>\n",
       "      <td>773780</td>\n",
       "      <td>1997575</td>\n",
       "      <td>0</td>\n",
       "    </tr>\n",
       "    <tr>\n",
       "      <th>living with parents and siblings</th>\n",
       "      <td>0</td>\n",
       "      <td>0</td>\n",
       "      <td>1550402</td>\n",
       "    </tr>\n",
       "    <tr>\n",
       "      <th>married</th>\n",
       "      <td>13259972</td>\n",
       "      <td>6089261</td>\n",
       "      <td>3403822</td>\n",
       "    </tr>\n",
       "    <tr>\n",
       "      <th>single</th>\n",
       "      <td>3680869</td>\n",
       "      <td>0</td>\n",
       "      <td>1644051</td>\n",
       "    </tr>\n",
       "  </tbody>\n",
       "</table>\n",
       "</div>"
      ],
      "text/plain": [
       "age_profile                          adult  pensioner  young adult\n",
       "fam_status                                                        \n",
       "divorced/widowed                    773780    1997575            0\n",
       "living with parents and siblings         0          0      1550402\n",
       "married                           13259972    6089261      3403822\n",
       "single                             3680869          0      1644051"
      ]
     },
     "execution_count": 247,
     "metadata": {},
     "output_type": "execute_result"
    }
   ],
   "source": [
    "age_x_famStatus.head()"
   ]
  },
  {
   "cell_type": "code",
   "execution_count": 253,
   "id": "7e1e3edf",
   "metadata": {
    "ExecuteTime": {
     "end_time": "2022-11-08T12:03:52.079203Z",
     "start_time": "2022-11-08T12:03:51.862996Z"
    },
    "scrolled": true
   },
   "outputs": [
    {
     "data": {
      "text/plain": [
       "Text(0.5, 0, 'Family status')"
      ]
     },
     "execution_count": 253,
     "metadata": {},
     "output_type": "execute_result"
    },
    {
     "data": {
      "image/png": "[encoded data removed]",
      "text/plain": [
       "<Figure size 1500x1000 with 1 Axes>"
      ]
     },
     "metadata": {},
     "output_type": "display_data"
    }
   ],
   "source": [
    "Q8_bar_ageProfile_x_famStatus = age_x_famStatus.plot(kind='bar', stacked=True, colormap='tab10', figsize=(15, 10), fontsize=14)\n",
    "plt.title(\"Order count for different age groupes and family status\", fontsize = 23)\n",
    "plt.ylabel(\"Order count\", fontsize = 20)\n",
    "plt.xlabel(\"Family status\", fontsize = 20)"
   ]
  },
  {
   "cell_type": "code",
   "execution_count": 257,
   "id": "86f47064",
   "metadata": {
    "ExecuteTime": {
     "end_time": "2022-11-08T12:12:01.266878Z",
     "start_time": "2022-11-08T12:12:00.873488Z"
    }
   },
   "outputs": [],
   "source": [
    "# export bar chart\n",
    "Q8_bar_ageProfile_x_famStatus.figure.savefig(os.path.join(path, '04 Analysis', 'answer_visualizations', 'Q8_bar_ageProfile_x_famStatus.png'),bbox_inches='tight', dpi=200)"
   ]
  }
 ],
 "metadata": {
  "kernelspec": {
   "display_name": "Python 3 (ipykernel)",
   "language": "python",
   "name": "python3"
  },
  "language_info": {
   "codemirror_mode": {
    "name": "ipython",
    "version": 3
   },
   "file_extension": ".py",
   "mimetype": "text/x-python",
   "name": "python",
   "nbconvert_exporter": "python",
   "pygments_lexer": "ipython3",
   "version": "3.8.13"
  }
 },
 "nbformat": 4,
 "nbformat_minor": 5
}
